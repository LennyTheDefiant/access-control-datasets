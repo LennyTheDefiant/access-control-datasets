{
 "cells": [
  {
   "cell_type": "code",
   "execution_count": 1,
   "id": "32f4ad48",
   "metadata": {
    "_cell_guid": "b1076dfc-b9ad-4769-8c92-a6c4dae69d19",
    "_uuid": "8f2839f25d086af736a60e9eeb907d3b93b6e0e5",
    "execution": {
     "iopub.execute_input": "2024-10-21T17:28:10.411849Z",
     "iopub.status.busy": "2024-10-21T17:28:10.411364Z",
     "iopub.status.idle": "2024-10-21T17:28:14.074063Z",
     "shell.execute_reply": "2024-10-21T17:28:14.072664Z"
    },
    "papermill": {
     "duration": 3.673884,
     "end_time": "2024-10-21T17:28:14.077364",
     "exception": false,
     "start_time": "2024-10-21T17:28:10.403480",
     "status": "completed"
    },
    "tags": []
   },
   "outputs": [],
   "source": [
    "from matplotlib import pyplot as plt \n",
    "import pandas as pd\n",
    "import numpy as np\n",
    "import seaborn as sns\n",
    "from sklearn import datasets\n",
    "from sklearn.svm import SVR\n",
    "from sklearn import metrics\n",
    "from sklearn.metrics import confusion_matrix, f1_score, recall_score, precision_score, roc_auc_score, average_precision_score, roc_curve, precision_recall_curve, auc, accuracy_score\n",
    "from sklearn.model_selection import train_test_split\n",
    "from sklearn.multiclass import OneVsRestClassifier\n",
    "from sklearn.ensemble import AdaBoostClassifier\n",
    "from sklearn.tree import DecisionTreeClassifier\n",
    "from sklearn.model_selection import StratifiedKFold, cross_val_score, cross_val_predict"
   ]
  },
  {
   "cell_type": "code",
   "execution_count": 2,
   "id": "71399f05",
   "metadata": {
    "execution": {
     "iopub.execute_input": "2024-10-21T17:28:14.091915Z",
     "iopub.status.busy": "2024-10-21T17:28:14.091294Z",
     "iopub.status.idle": "2024-10-21T17:28:14.293686Z",
     "shell.execute_reply": "2024-10-21T17:28:14.292308Z"
    },
    "papermill": {
     "duration": 0.213056,
     "end_time": "2024-10-21T17:28:14.296713",
     "exception": false,
     "start_time": "2024-10-21T17:28:14.083657",
     "status": "completed"
    },
    "tags": []
   },
   "outputs": [],
   "source": [
    "dataset_train = pd.read_csv(\"/kaggle/input/amazon-kaggle-smote/Amazon_Kaggle_SMOTE.csv\", delimiter = ',')"
   ]
  },
  {
   "cell_type": "code",
   "execution_count": 3,
   "id": "8878d191",
   "metadata": {
    "execution": {
     "iopub.execute_input": "2024-10-21T17:28:14.310765Z",
     "iopub.status.busy": "2024-10-21T17:28:14.309805Z",
     "iopub.status.idle": "2024-10-21T17:28:14.329061Z",
     "shell.execute_reply": "2024-10-21T17:28:14.327562Z"
    },
    "papermill": {
     "duration": 0.029956,
     "end_time": "2024-10-21T17:28:14.332442",
     "exception": false,
     "start_time": "2024-10-21T17:28:14.302486",
     "status": "completed"
    },
    "tags": []
   },
   "outputs": [
    {
     "name": "stdout",
     "output_type": "stream",
     "text": [
      "          0     1       2       3       4       5       6       7       8  \\\n",
      "0      7780  1616    6831  117961  117969    6725  125687  202487    6725   \n",
      "1      8208  3725   20412  117890  117891  117878  117879  117879   19721   \n",
      "2      1062  6982   51172  117961  118225  120551  120690  120691  290919   \n",
      "3      3288  7102   46788  117929  117940  117920  118568  163031   19721   \n",
      "4      8278  5785   19881  118006  118007  117941  118568  292195   19721   \n",
      "...     ...   ...     ...     ...     ...     ...     ...     ...     ...   \n",
      "61739  7661  6768  114380  118017  118194  118361  118362  127893   19758   \n",
      "61740  3059  2406   62258  119073  119158  125282  118955  130322  118950   \n",
      "61741  6428  4147    5312  117958  117959  117920  118568  122780   19721   \n",
      "61742  1454  5151    4670  117945  118234  119223  118430  130266  118194   \n",
      "61743  5520  1703    5252  117961  118187  120142  118556  117906  290919   \n",
      "\n",
      "            9     10  11  \n",
      "0      125689  20895   1  \n",
      "1      117880  31441   1  \n",
      "2      120692  80769   1  \n",
      "3      118570  20298   1  \n",
      "4      118570  45610   1  \n",
      "...       ...    ...  ..  \n",
      "61739  118363  20603   0  \n",
      "61740  118957  15374   0  \n",
      "61741  118570  20162   0  \n",
      "61742  118432   3096   0  \n",
      "61743  118557   3894   0  \n",
      "\n",
      "[61744 rows x 12 columns]\n"
     ]
    }
   ],
   "source": [
    "print(dataset_train)"
   ]
  },
  {
   "cell_type": "code",
   "execution_count": 4,
   "id": "817c9c62",
   "metadata": {
    "execution": {
     "iopub.execute_input": "2024-10-21T17:28:14.347413Z",
     "iopub.status.busy": "2024-10-21T17:28:14.347031Z",
     "iopub.status.idle": "2024-10-21T17:28:14.363383Z",
     "shell.execute_reply": "2024-10-21T17:28:14.362093Z"
    },
    "papermill": {
     "duration": 0.027013,
     "end_time": "2024-10-21T17:28:14.366527",
     "exception": false,
     "start_time": "2024-10-21T17:28:14.339514",
     "status": "completed"
    },
    "tags": []
   },
   "outputs": [
    {
     "name": "stdout",
     "output_type": "stream",
     "text": [
      "X of dataset:           0     1       2       3       4       5       6       7       8  \\\n",
      "0      7780  1616    6831  117961  117969    6725  125687  202487    6725   \n",
      "1      8208  3725   20412  117890  117891  117878  117879  117879   19721   \n",
      "2      1062  6982   51172  117961  118225  120551  120690  120691  290919   \n",
      "3      3288  7102   46788  117929  117940  117920  118568  163031   19721   \n",
      "4      8278  5785   19881  118006  118007  117941  118568  292195   19721   \n",
      "...     ...   ...     ...     ...     ...     ...     ...     ...     ...   \n",
      "61739  7661  6768  114380  118017  118194  118361  118362  127893   19758   \n",
      "61740  3059  2406   62258  119073  119158  125282  118955  130322  118950   \n",
      "61741  6428  4147    5312  117958  117959  117920  118568  122780   19721   \n",
      "61742  1454  5151    4670  117945  118234  119223  118430  130266  118194   \n",
      "61743  5520  1703    5252  117961  118187  120142  118556  117906  290919   \n",
      "\n",
      "            9     10  \n",
      "0      125689  20895  \n",
      "1      117880  31441  \n",
      "2      120692  80769  \n",
      "3      118570  20298  \n",
      "4      118570  45610  \n",
      "...       ...    ...  \n",
      "61739  118363  20603  \n",
      "61740  118957  15374  \n",
      "61741  118570  20162  \n",
      "61742  118432   3096  \n",
      "61743  118557   3894  \n",
      "\n",
      "[61744 rows x 11 columns]\n",
      "y of dataset: [1 1 1 ... 0 0 0]\n"
     ]
    }
   ],
   "source": [
    "X = dataset_train.drop(columns = \"11\")\n",
    "y = dataset_train[\"11\"]\n",
    "y = np.ravel(y)\n",
    "print('X of dataset:',X)\n",
    "print('y of dataset:',y)"
   ]
  },
  {
   "cell_type": "code",
   "execution_count": 5,
   "id": "9f698ab7",
   "metadata": {
    "execution": {
     "iopub.execute_input": "2024-10-21T17:28:14.381329Z",
     "iopub.status.busy": "2024-10-21T17:28:14.380909Z",
     "iopub.status.idle": "2024-10-21T17:28:14.399869Z",
     "shell.execute_reply": "2024-10-21T17:28:14.398513Z"
    },
    "papermill": {
     "duration": 0.029853,
     "end_time": "2024-10-21T17:28:14.402799",
     "exception": false,
     "start_time": "2024-10-21T17:28:14.372946",
     "status": "completed"
    },
    "tags": []
   },
   "outputs": [],
   "source": [
    "X_train, X_test, y_train, y_test = train_test_split(X, y, test_size = 0.2, random_state =42) "
   ]
  },
  {
   "cell_type": "code",
   "execution_count": 6,
   "id": "1982bb84",
   "metadata": {
    "execution": {
     "iopub.execute_input": "2024-10-21T17:28:14.417425Z",
     "iopub.status.busy": "2024-10-21T17:28:14.417005Z",
     "iopub.status.idle": "2024-10-21T17:58:02.090912Z",
     "shell.execute_reply": "2024-10-21T17:58:02.089327Z"
    },
    "papermill": {
     "duration": 1787.684973,
     "end_time": "2024-10-21T17:58:02.094320",
     "exception": false,
     "start_time": "2024-10-21T17:28:14.409347",
     "status": "completed"
    },
    "tags": []
   },
   "outputs": [],
   "source": [
    "#uses stratified 5-fold cross-validation\n",
    "max_score = 0\n",
    "best_estimator = 50\n",
    "best_learning_rate = 1.0\n",
    "n_estimator_list = [50,100,150,200]\n",
    "learning_rate_list = [1.0,2.0,3.0,5.0,7.0,9.0]\n",
    "\n",
    "for e_ in n_estimator_list:\n",
    "    for l_ in learning_rate_list:\n",
    "        abc = AdaBoostClassifier(n_estimators=e_,learning_rate=l_)\n",
    "        skf = StratifiedKFold(n_splits=5, shuffle=True, random_state=42)\n",
    "        score = cross_val_score(abc, X, y, cv=skf)\n",
    "        score_mean = score.mean()\n",
    "        if score_mean > max_score:\n",
    "            best_scores = score\n",
    "            max_score = score_mean\n",
    "            best_estimator = e_\n",
    "            best_learning_rate = l_\n",
    "            y_probs = cross_val_predict(abc, X, y, cv=skf, method = 'predict_proba')\n",
    "            \n",
    "            f1_score_value = cross_val_score(abc, X, y, cv=skf, scoring='f1')\n",
    "            recall_score_value = cross_val_score(abc, X, y, cv=skf, scoring='recall')\n",
    "            precision_score_value = cross_val_score(abc, X, y, cv=skf, scoring='precision')"
   ]
  },
  {
   "cell_type": "code",
   "execution_count": 7,
   "id": "18561f8d",
   "metadata": {
    "execution": {
     "iopub.execute_input": "2024-10-21T17:58:02.109305Z",
     "iopub.status.busy": "2024-10-21T17:58:02.108883Z",
     "iopub.status.idle": "2024-10-21T17:58:02.117090Z",
     "shell.execute_reply": "2024-10-21T17:58:02.115687Z"
    },
    "papermill": {
     "duration": 0.019472,
     "end_time": "2024-10-21T17:58:02.120636",
     "exception": false,
     "start_time": "2024-10-21T17:58:02.101164",
     "status": "completed"
    },
    "tags": []
   },
   "outputs": [
    {
     "name": "stdout",
     "output_type": "stream",
     "text": [
      "Cross-validation scores: [0.78961859 0.7866224  0.79561098 0.78816098 0.78887269]\n",
      "Average cross-validation score: 0.78977713\n",
      "Standard Deviation of scores: 0.00308030\n",
      "Best n_estimator and learning rate:  200 1.0\n"
     ]
    }
   ],
   "source": [
    "print(\"Cross-validation scores: {}\".format(best_scores))\n",
    "print(\"Average cross-validation score: {:.8f}\".format(max_score))\n",
    "print(\"Standard Deviation of scores: {:.8f}\".format(best_scores.std()))\n",
    "print(\"Best n_estimator and learning rate: \", best_estimator, best_learning_rate)"
   ]
  },
  {
   "cell_type": "code",
   "execution_count": 8,
   "id": "e8541ead",
   "metadata": {
    "execution": {
     "iopub.execute_input": "2024-10-21T17:58:02.135033Z",
     "iopub.status.busy": "2024-10-21T17:58:02.134591Z",
     "iopub.status.idle": "2024-10-21T17:58:02.140385Z",
     "shell.execute_reply": "2024-10-21T17:58:02.139118Z"
    },
    "papermill": {
     "duration": 0.016433,
     "end_time": "2024-10-21T17:58:02.143166",
     "exception": false,
     "start_time": "2024-10-21T17:58:02.126733",
     "status": "completed"
    },
    "tags": []
   },
   "outputs": [],
   "source": [
    "f1_score_final = f1_score_value.mean()\n",
    "recall_final = recall_score_value.mean()\n",
    "precision_final = precision_score_value.mean()"
   ]
  },
  {
   "cell_type": "code",
   "execution_count": 9,
   "id": "f7013bd7",
   "metadata": {
    "execution": {
     "iopub.execute_input": "2024-10-21T17:58:02.157384Z",
     "iopub.status.busy": "2024-10-21T17:58:02.156984Z",
     "iopub.status.idle": "2024-10-21T17:58:02.163401Z",
     "shell.execute_reply": "2024-10-21T17:58:02.162320Z"
    },
    "papermill": {
     "duration": 0.016588,
     "end_time": "2024-10-21T17:58:02.165982",
     "exception": false,
     "start_time": "2024-10-21T17:58:02.149394",
     "status": "completed"
    },
    "tags": []
   },
   "outputs": [
    {
     "name": "stdout",
     "output_type": "stream",
     "text": [
      "Average F1 score:  0.7885300051587277\n",
      "Average Recall score:  0.7838819655103222\n",
      "Average Precision score:  0.7932597530321249\n"
     ]
    }
   ],
   "source": [
    "print(\"Average F1 score: \", f1_score_final)\n",
    "print(\"Average Recall score: \", recall_final)\n",
    "print(\"Average Precision score: \", precision_final)"
   ]
  },
  {
   "cell_type": "code",
   "execution_count": 10,
   "id": "7439ae75",
   "metadata": {
    "execution": {
     "iopub.execute_input": "2024-10-21T17:58:02.180374Z",
     "iopub.status.busy": "2024-10-21T17:58:02.179968Z",
     "iopub.status.idle": "2024-10-21T17:58:02.227038Z",
     "shell.execute_reply": "2024-10-21T17:58:02.225557Z"
    },
    "papermill": {
     "duration": 0.058883,
     "end_time": "2024-10-21T17:58:02.230974",
     "exception": false,
     "start_time": "2024-10-21T17:58:02.172091",
     "status": "completed"
    },
    "tags": []
   },
   "outputs": [],
   "source": [
    "y_probs_positive = y_probs[:, 1]\n",
    "fpr, tpr, _ = roc_curve(y, y_probs_positive)\n",
    "roc_auc = auc(fpr, tpr)\n",
    "precision, recall, _ = precision_recall_curve(y, y_probs_positive)\n",
    "average_precision = average_precision_score(y, y_probs_positive)\n",
    "\n",
    "tpr_final = tpr.mean()\n",
    "fpr_final = fpr.mean()"
   ]
  },
  {
   "cell_type": "code",
   "execution_count": 11,
   "id": "34ac12f2",
   "metadata": {
    "execution": {
     "iopub.execute_input": "2024-10-21T17:58:02.247827Z",
     "iopub.status.busy": "2024-10-21T17:58:02.247356Z",
     "iopub.status.idle": "2024-10-21T17:58:02.253678Z",
     "shell.execute_reply": "2024-10-21T17:58:02.252435Z"
    },
    "papermill": {
     "duration": 0.016587,
     "end_time": "2024-10-21T17:58:02.256368",
     "exception": false,
     "start_time": "2024-10-21T17:58:02.239781",
     "status": "completed"
    },
    "tags": []
   },
   "outputs": [
    {
     "name": "stdout",
     "output_type": "stream",
     "text": [
      "Average tpr: 0.7615835459331093\n",
      "Average fpr: 0.33480086791805513\n"
     ]
    }
   ],
   "source": [
    "print('Average tpr:',tpr_final)\n",
    "print('Average fpr:',fpr_final)"
   ]
  },
  {
   "cell_type": "code",
   "execution_count": 12,
   "id": "9b18572a",
   "metadata": {
    "execution": {
     "iopub.execute_input": "2024-10-21T17:58:02.270451Z",
     "iopub.status.busy": "2024-10-21T17:58:02.270043Z",
     "iopub.status.idle": "2024-10-21T17:58:02.787113Z",
     "shell.execute_reply": "2024-10-21T17:58:02.785698Z"
    },
    "papermill": {
     "duration": 0.52742,
     "end_time": "2024-10-21T17:58:02.789974",
     "exception": false,
     "start_time": "2024-10-21T17:58:02.262554",
     "status": "completed"
    },
    "tags": []
   },
   "outputs": [
    {
     "name": "stdout",
     "output_type": "stream",
     "text": [
      "Average Area Under the PR Curve score:  0.8714561100089255\n"
     ]
    },
    {
     "data": {
      "image/png": "[encoded data removed]",
      "text/plain": [
       "<Figure size 800x600 with 1 Axes>"
      ]
     },
     "metadata": {},
     "output_type": "display_data"
    }
   ],
   "source": [
    "print(\"Average Area Under the PR Curve score: \", average_precision)\n",
    "\n",
    "plt.figure(figsize=(8, 6))\n",
    "plt.plot(recall, precision, color='blue', lw=2, label='PR curve (area = {0:0.2f})'.format(average_precision))\n",
    "plt.plot([0,1],[1,0], color='black', linestyle='--')\n",
    "plt.xlim([0.0, 1.0])\n",
    "plt.ylim([0.0, 1.05])\n",
    "plt.xlabel('Recall')\n",
    "plt.ylabel('Precision')\n",
    "plt.title('Precision-Recall Curve')\n",
    "plt.legend(loc=\"lower right\")\n",
    "plt.savefig('/kaggle/working/abc_S5KCV_prc_amazon_smote.png')\n",
    "plt.show()"
   ]
  },
  {
   "cell_type": "code",
   "execution_count": 13,
   "id": "91765cd4",
   "metadata": {
    "execution": {
     "iopub.execute_input": "2024-10-21T17:58:02.806242Z",
     "iopub.status.busy": "2024-10-21T17:58:02.805798Z",
     "iopub.status.idle": "2024-10-21T17:58:03.297139Z",
     "shell.execute_reply": "2024-10-21T17:58:03.295835Z"
    },
    "papermill": {
     "duration": 0.502736,
     "end_time": "2024-10-21T17:58:03.299868",
     "exception": false,
     "start_time": "2024-10-21T17:58:02.797132",
     "status": "completed"
    },
    "tags": []
   },
   "outputs": [
    {
     "name": "stdout",
     "output_type": "stream",
     "text": [
      "Average Area Under the ROC Curve score:  0.8735726078063948\n"
     ]
    },
    {
     "data": {
      "image/png": "[encoded data removed]",
      "text/plain": [
       "<Figure size 800x600 with 1 Axes>"
      ]
     },
     "metadata": {},
     "output_type": "display_data"
    }
   ],
   "source": [
    "print(\"Average Area Under the ROC Curve score: \", roc_auc)\n",
    "\n",
    "plt.figure(figsize=(8, 6))\n",
    "plt.plot(fpr, tpr, color='blue', lw=2, label='ROC curve (area = {0:0.2f})'.format(roc_auc))\n",
    "plt.plot([0, 1], [0, 1], color='black', linestyle='--')\n",
    "plt.xlim([0.0, 1.0])\n",
    "plt.ylim([0.0, 1.05])\n",
    "plt.xlabel('False Positive Rate (FPR)')\n",
    "plt.ylabel('True Positive Rate (TPR)')\n",
    "plt.title('Receiver Operating Characteristic (ROC) Curve')\n",
    "plt.legend(loc=\"lower right\")\n",
    "plt.savefig('/kaggle/working/abc_S5KCV_roc_amazon_smote.png')\n",
    "plt.show()"
   ]
  },
  {
   "cell_type": "code",
   "execution_count": 14,
   "id": "ffddccba",
   "metadata": {
    "execution": {
     "iopub.execute_input": "2024-10-21T17:58:03.318442Z",
     "iopub.status.busy": "2024-10-21T17:58:03.317380Z",
     "iopub.status.idle": "2024-10-21T17:58:03.326474Z",
     "shell.execute_reply": "2024-10-21T17:58:03.324908Z"
    },
    "papermill": {
     "duration": 0.021548,
     "end_time": "2024-10-21T17:58:03.329381",
     "exception": false,
     "start_time": "2024-10-21T17:58:03.307833",
     "status": "completed"
    },
    "tags": []
   },
   "outputs": [],
   "source": [
    "output_file_path = '/kaggle/working/adaboost_amazon_SMOTE_scores.txt' \n",
    "with open(output_file_path, 'w') as f: \n",
    "    f.write(\"F1 Score: {}\\n\".format(f1_score_final)) \n",
    "    f.write(\"Precision: {}\\n\".format(precision_final)) \n",
    "    f.write(\"Recall: {}\\n\".format(recall_final)) \n",
    "    f.write(\"PRC AUC: {}\\n\".format(average_precision)) \n",
    "    f.write(\"ROC AUC: {}\\n\".format(roc_auc)) \n",
    "    f.write(\"TPR: {}\\n\".format(tpr_final)) \n",
    "    f.write(\"FPR: {}\\n\".format(fpr_final))"
   ]
  }
 ],
 "metadata": {
  "kaggle": {
   "accelerator": "none",
   "dataSources": [
    {
     "datasetId": 4727981,
     "sourceId": 8023147,
     "sourceType": "datasetVersion"
    }
   ],
   "dockerImageVersionId": 30665,
   "isGpuEnabled": false,
   "isInternetEnabled": true,
   "language": "python",
   "sourceType": "notebook"
  },
  "kernelspec": {
   "display_name": "Python 3",
   "language": "python",
   "name": "python3"
  },
  "language_info": {
   "codemirror_mode": {
    "name": "ipython",
    "version": 3
   },
   "file_extension": ".py",
   "mimetype": "text/x-python",
   "name": "python",
   "nbconvert_exporter": "python",
   "pygments_lexer": "ipython3",
   "version": "3.10.13"
  },
  "papermill": {
   "default_parameters": {},
   "duration": 1797.515579,
   "end_time": "2024-10-21T17:58:04.064981",
   "environment_variables": {},
   "exception": null,
   "input_path": "__notebook__.ipynb",
   "output_path": "__notebook__.ipynb",
   "parameters": {},
   "start_time": "2024-10-21T17:28:06.549402",
   "version": "2.5.0"
  }
 },
 "nbformat": 4,
 "nbformat_minor": 5
}
