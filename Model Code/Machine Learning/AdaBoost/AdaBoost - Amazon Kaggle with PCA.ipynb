{
 "cells": [
  {
   "cell_type": "code",
   "execution_count": 1,
   "id": "90151f77",
   "metadata": {
    "_cell_guid": "b1076dfc-b9ad-4769-8c92-a6c4dae69d19",
    "_uuid": "8f2839f25d086af736a60e9eeb907d3b93b6e0e5",
    "execution": {
     "iopub.execute_input": "2024-10-23T03:37:10.182359Z",
     "iopub.status.busy": "2024-10-23T03:37:10.181982Z",
     "iopub.status.idle": "2024-10-23T03:37:12.866743Z",
     "shell.execute_reply": "2024-10-23T03:37:12.865729Z"
    },
    "papermill": {
     "duration": 2.693232,
     "end_time": "2024-10-23T03:37:12.869055",
     "exception": false,
     "start_time": "2024-10-23T03:37:10.175823",
     "status": "completed"
    },
    "tags": []
   },
   "outputs": [],
   "source": [
    "from matplotlib import pyplot as plt \n",
    "import pandas as pd\n",
    "import numpy as np\n",
    "import seaborn as sns\n",
    "from sklearn import datasets\n",
    "from sklearn.svm import SVR\n",
    "from sklearn import metrics\n",
    "from sklearn.metrics import confusion_matrix, f1_score, recall_score, precision_score, roc_auc_score, average_precision_score, roc_curve, precision_recall_curve, auc, accuracy_score\n",
    "from sklearn.model_selection import train_test_split\n",
    "from sklearn.multiclass import OneVsRestClassifier\n",
    "from sklearn.ensemble import AdaBoostClassifier\n",
    "from sklearn.tree import DecisionTreeClassifier\n",
    "from sklearn.model_selection import StratifiedKFold, cross_val_score, cross_val_predict"
   ]
  },
  {
   "cell_type": "code",
   "execution_count": 2,
   "id": "32b48e42",
   "metadata": {
    "execution": {
     "iopub.execute_input": "2024-10-23T03:37:12.879028Z",
     "iopub.status.busy": "2024-10-23T03:37:12.878098Z",
     "iopub.status.idle": "2024-10-23T03:37:13.112041Z",
     "shell.execute_reply": "2024-10-23T03:37:13.111243Z"
    },
    "papermill": {
     "duration": 0.241007,
     "end_time": "2024-10-23T03:37:13.114354",
     "exception": false,
     "start_time": "2024-10-23T03:37:12.873347",
     "status": "completed"
    },
    "tags": []
   },
   "outputs": [],
   "source": [
    "inputs = pd.read_csv(\"/kaggle/input/amazon-kaggle-with-pca/Amazon_Kaggle_with_PCA.csv\", delimiter=',')\n",
    "outputs = pd.read_csv(\"/kaggle/input/train-test-amazon1/train_test_amazon1.sample\", header = None, delimiter=' ')"
   ]
  },
  {
   "cell_type": "code",
   "execution_count": 3,
   "id": "d555c07b",
   "metadata": {
    "execution": {
     "iopub.execute_input": "2024-10-23T03:37:13.124093Z",
     "iopub.status.busy": "2024-10-23T03:37:13.123166Z",
     "iopub.status.idle": "2024-10-23T03:37:13.153257Z",
     "shell.execute_reply": "2024-10-23T03:37:13.152305Z"
    },
    "papermill": {
     "duration": 0.037522,
     "end_time": "2024-10-23T03:37:13.155939",
     "exception": false,
     "start_time": "2024-10-23T03:37:13.118417",
     "status": "completed"
    },
    "tags": []
   },
   "outputs": [
    {
     "name": "stdout",
     "output_type": "stream",
     "text": [
      "              0         1         2         3         4         5         6  \\\n",
      "0      1.770261 -1.259299 -4.137274  0.219519 -2.272145  1.261023 -0.832089   \n",
      "1      0.111547 -0.923248 -0.515758  0.358302 -0.468171  0.811812  0.583574   \n",
      "2     -0.795466  0.113435  0.751907 -0.610852  1.150108  0.022268 -1.790796   \n",
      "3      0.650470 -1.399842 -0.406764 -0.761072  0.248319 -0.067045 -1.038479   \n",
      "4      1.513254 -0.368222 -0.461411 -0.338803 -0.110288  1.393196  0.088838   \n",
      "...         ...       ...       ...       ...       ...       ...       ...   \n",
      "32764  0.038324  0.608743  0.115501 -1.488739 -0.116374  0.335744 -0.894558   \n",
      "32765 -0.386422  0.182174  1.162071 -0.652403  1.066914  0.587248 -1.537257   \n",
      "32766  0.402048 -0.377368  0.286475 -0.059459 -0.857581 -2.173894 -0.101953   \n",
      "32767 -1.283080  0.669593  0.746969 -0.147694  0.276069 -0.065078 -0.724832   \n",
      "32768 -0.971727  0.479671 -0.576030  0.195303 -0.891990  0.574659  0.807037   \n",
      "\n",
      "              7         8         9        10  \n",
      "0      1.386808 -3.019892  0.004317  1.362819  \n",
      "1     -0.462696  0.380199  0.535102  0.418230  \n",
      "2     -0.245657  0.221949 -0.941643  0.379423  \n",
      "3     -0.596665  1.009992  0.494232  0.070768  \n",
      "4     -0.834729  0.204659  1.641731 -0.582535  \n",
      "...         ...       ...       ...       ...  \n",
      "32764 -0.510242  0.481616  0.412965 -0.259106  \n",
      "32765 -0.544747 -0.788481  0.367469  0.902474  \n",
      "32766  0.116744  0.163797  0.112280  0.760838  \n",
      "32767 -0.045225 -0.760842 -0.356688  0.333403  \n",
      "32768 -0.082753  0.523626 -0.313738 -0.153078  \n",
      "\n",
      "[32769 rows x 11 columns]\n",
      "       11\n",
      "0       1\n",
      "1       1\n",
      "2       1\n",
      "3       1\n",
      "4       1\n",
      "...    ..\n",
      "32764   1\n",
      "32765   1\n",
      "32766   1\n",
      "32767   1\n",
      "32768   1\n",
      "\n",
      "[32769 rows x 1 columns]\n"
     ]
    }
   ],
   "source": [
    "inputs = inputs.drop(columns=['Unnamed: 0'])\n",
    "print(inputs)\n",
    "outputs = outputs.filter([11])\n",
    "print(outputs)"
   ]
  },
  {
   "cell_type": "code",
   "execution_count": 4,
   "id": "4f5f9ee3",
   "metadata": {
    "execution": {
     "iopub.execute_input": "2024-10-23T03:37:13.165673Z",
     "iopub.status.busy": "2024-10-23T03:37:13.165079Z",
     "iopub.status.idle": "2024-10-23T03:37:13.176943Z",
     "shell.execute_reply": "2024-10-23T03:37:13.176156Z"
    },
    "papermill": {
     "duration": 0.019014,
     "end_time": "2024-10-23T03:37:13.179076",
     "exception": false,
     "start_time": "2024-10-23T03:37:13.160062",
     "status": "completed"
    },
    "tags": []
   },
   "outputs": [],
   "source": [
    "X = inputs\n",
    "y = outputs\n",
    "x_train, x_test, y_train, y_test = train_test_split(X, y, test_size=0.2, random_state=42)\n",
    "\n"
   ]
  },
  {
   "cell_type": "code",
   "execution_count": 5,
   "id": "9f39146c",
   "metadata": {
    "execution": {
     "iopub.execute_input": "2024-10-23T03:37:13.188837Z",
     "iopub.status.busy": "2024-10-23T03:37:13.188227Z",
     "iopub.status.idle": "2024-10-23T03:56:22.338857Z",
     "shell.execute_reply": "2024-10-23T03:56:22.337629Z"
    },
    "papermill": {
     "duration": 1149.162146,
     "end_time": "2024-10-23T03:56:22.345406",
     "exception": false,
     "start_time": "2024-10-23T03:37:13.183260",
     "status": "completed"
    },
    "tags": []
   },
   "outputs": [
    {
     "name": "stderr",
     "output_type": "stream",
     "text": [
      "/opt/conda/lib/python3.10/site-packages/sklearn/preprocessing/_label.py:116: DataConversionWarning: A column-vector y was passed when a 1d array was expected. Please change the shape of y to (n_samples, ), for example using ravel().\n",
      "  y = column_or_1d(y, warn=True)\n"
     ]
    },
    {
     "name": "stdout",
     "output_type": "stream",
     "text": [
      "Best Estimator: 150, Best Learning Rate: 1.0\n",
      "Best Cross-Validation Score: 1.0\n"
     ]
    }
   ],
   "source": [
    "from sklearn.ensemble import AdaBoostClassifier\n",
    "from sklearn.model_selection import StratifiedKFold, cross_val_score, cross_val_predict\n",
    "from sklearn.preprocessing import LabelEncoder\n",
    "import numpy as np\n",
    "\n",
    "# Label encode the target variable (y)\n",
    "le = LabelEncoder()\n",
    "y_encoded = le.fit_transform(y)\n",
    "\n",
    "# Initialize parameters\n",
    "max_score = 0\n",
    "best_estimator = 50\n",
    "best_learning_rate = 1.0\n",
    "n_estimator_list = [50, 100, 150, 200]\n",
    "learning_rate_list = [1.0, 2.0, 3.0, 5.0, 7.0, 9.0]\n",
    "\n",
    "for e_ in n_estimator_list:\n",
    "    for l_ in learning_rate_list:\n",
    "        abc = AdaBoostClassifier(n_estimators=e_, learning_rate=l_)\n",
    "        skf = StratifiedKFold(n_splits=5, shuffle=True, random_state=42)\n",
    "        score = cross_val_score(abc, X, y_encoded, cv=skf)\n",
    "        score_mean = score.mean()\n",
    "        if score_mean > max_score:\n",
    "            best_scores = score\n",
    "            max_score = score_mean\n",
    "            best_estimator = e_\n",
    "            best_learning_rate = l_\n",
    "\n",
    "            # Fit the classifier to get probabilities\n",
    "            y_probs = cross_val_predict(abc, X, y_encoded, cv=skf, method='predict_proba')\n",
    "\n",
    "            # Calculate other metrics\n",
    "            f1_score_value = cross_val_score(abc, X, y_encoded, cv=skf, scoring='f1')\n",
    "            recall_score_value = cross_val_score(abc, X, y_encoded, cv=skf, scoring='recall')\n",
    "            precision_score_value = cross_val_score(abc, X, y_encoded, cv=skf, scoring='precision')\n",
    "\n",
    "# Print best scores, estimator, learning rate\n",
    "print(f\"Best Estimator: {best_estimator}, Best Learning Rate: {best_learning_rate}\")\n",
    "print(f\"Best Cross-Validation Score: {max_score}\")\n"
   ]
  },
  {
   "cell_type": "code",
   "execution_count": 6,
   "id": "07ea51c0",
   "metadata": {
    "execution": {
     "iopub.execute_input": "2024-10-23T03:56:22.355737Z",
     "iopub.status.busy": "2024-10-23T03:56:22.355306Z",
     "iopub.status.idle": "2024-10-23T03:56:22.362021Z",
     "shell.execute_reply": "2024-10-23T03:56:22.360956Z"
    },
    "papermill": {
     "duration": 0.014601,
     "end_time": "2024-10-23T03:56:22.364263",
     "exception": false,
     "start_time": "2024-10-23T03:56:22.349662",
     "status": "completed"
    },
    "tags": []
   },
   "outputs": [
    {
     "name": "stdout",
     "output_type": "stream",
     "text": [
      "Cross-validation scores: [1. 1. 1. 1. 1.]\n",
      "Average cross-validation score: 1.00000000\n",
      "Standard Deviation of scores: 0.00000000\n",
      "Best n_estimator and learning rate:  150 1.0\n"
     ]
    }
   ],
   "source": [
    "print(\"Cross-validation scores: {}\".format(best_scores))\n",
    "print(\"Average cross-validation score: {:.8f}\".format(max_score))\n",
    "print(\"Standard Deviation of scores: {:.8f}\".format(best_scores.std()))\n",
    "print(\"Best n_estimator and learning rate: \", best_estimator, best_learning_rate)"
   ]
  },
  {
   "cell_type": "code",
   "execution_count": 7,
   "id": "87e2afd5",
   "metadata": {
    "execution": {
     "iopub.execute_input": "2024-10-23T03:56:22.374463Z",
     "iopub.status.busy": "2024-10-23T03:56:22.374078Z",
     "iopub.status.idle": "2024-10-23T03:56:22.379258Z",
     "shell.execute_reply": "2024-10-23T03:56:22.378129Z"
    },
    "papermill": {
     "duration": 0.01276,
     "end_time": "2024-10-23T03:56:22.381404",
     "exception": false,
     "start_time": "2024-10-23T03:56:22.368644",
     "status": "completed"
    },
    "tags": []
   },
   "outputs": [],
   "source": [
    "f1_score_final = f1_score_value.mean()\n",
    "recall_final = recall_score_value.mean()\n",
    "precision_final = precision_score_value.mean()"
   ]
  },
  {
   "cell_type": "code",
   "execution_count": 8,
   "id": "b774915e",
   "metadata": {
    "execution": {
     "iopub.execute_input": "2024-10-23T03:56:22.391863Z",
     "iopub.status.busy": "2024-10-23T03:56:22.391437Z",
     "iopub.status.idle": "2024-10-23T03:56:22.396748Z",
     "shell.execute_reply": "2024-10-23T03:56:22.395732Z"
    },
    "papermill": {
     "duration": 0.013285,
     "end_time": "2024-10-23T03:56:22.399093",
     "exception": false,
     "start_time": "2024-10-23T03:56:22.385808",
     "status": "completed"
    },
    "tags": []
   },
   "outputs": [
    {
     "name": "stdout",
     "output_type": "stream",
     "text": [
      "Average F1 score:  1.0\n",
      "Average Recall score:  1.0\n",
      "Average Precision score:  1.0\n"
     ]
    }
   ],
   "source": [
    "print(\"Average F1 score: \", f1_score_final)\n",
    "print(\"Average Recall score: \", recall_final)\n",
    "print(\"Average Precision score: \", precision_final)"
   ]
  },
  {
   "cell_type": "code",
   "execution_count": 9,
   "id": "c1b4cd4f",
   "metadata": {
    "execution": {
     "iopub.execute_input": "2024-10-23T03:56:22.410710Z",
     "iopub.status.busy": "2024-10-23T03:56:22.410287Z",
     "iopub.status.idle": "2024-10-23T03:56:22.447035Z",
     "shell.execute_reply": "2024-10-23T03:56:22.446020Z"
    },
    "papermill": {
     "duration": 0.046504,
     "end_time": "2024-10-23T03:56:22.449985",
     "exception": false,
     "start_time": "2024-10-23T03:56:22.403481",
     "status": "completed"
    },
    "tags": []
   },
   "outputs": [],
   "source": [
    "y_probs_positive = y_probs[:, 1]\n",
    "fpr, tpr, _ = roc_curve(y, y_probs_positive)\n",
    "roc_auc = auc(fpr, tpr)\n",
    "precision, recall, _ = precision_recall_curve(y, y_probs_positive)\n",
    "average_precision = average_precision_score(y, y_probs_positive)\n",
    "\n",
    "tpr_final = tpr.mean()\n",
    "fpr_final = fpr.mean()"
   ]
  },
  {
   "cell_type": "code",
   "execution_count": 10,
   "id": "6dfa449b",
   "metadata": {
    "execution": {
     "iopub.execute_input": "2024-10-23T03:56:22.464655Z",
     "iopub.status.busy": "2024-10-23T03:56:22.464285Z",
     "iopub.status.idle": "2024-10-23T03:56:22.469938Z",
     "shell.execute_reply": "2024-10-23T03:56:22.468761Z"
    },
    "papermill": {
     "duration": 0.01523,
     "end_time": "2024-10-23T03:56:22.471987",
     "exception": false,
     "start_time": "2024-10-23T03:56:22.456757",
     "status": "completed"
    },
    "tags": []
   },
   "outputs": [
    {
     "name": "stdout",
     "output_type": "stream",
     "text": [
      "Average tpr: 0.5161214012562837\n",
      "Average fpr: 0.007113285879667001\n"
     ]
    }
   ],
   "source": [
    "print('Average tpr:',tpr_final)\n",
    "print('Average fpr:',fpr_final)"
   ]
  },
  {
   "cell_type": "code",
   "execution_count": 11,
   "id": "34cd4bde",
   "metadata": {
    "execution": {
     "iopub.execute_input": "2024-10-23T03:56:22.482633Z",
     "iopub.status.busy": "2024-10-23T03:56:22.481958Z",
     "iopub.status.idle": "2024-10-23T03:56:22.904766Z",
     "shell.execute_reply": "2024-10-23T03:56:22.903669Z"
    },
    "papermill": {
     "duration": 0.431163,
     "end_time": "2024-10-23T03:56:22.907522",
     "exception": false,
     "start_time": "2024-10-23T03:56:22.476359",
     "status": "completed"
    },
    "tags": []
   },
   "outputs": [
    {
     "name": "stdout",
     "output_type": "stream",
     "text": [
      "Average Area Under the PR Curve score:  1.0\n"
     ]
    },
    {
     "data": {
      "image/png": "[encoded data removed]",
      "text/plain": [
       "<Figure size 800x600 with 1 Axes>"
      ]
     },
     "metadata": {},
     "output_type": "display_data"
    }
   ],
   "source": [
    "print(\"Average Area Under the PR Curve score: \", average_precision)\n",
    "\n",
    "plt.figure(figsize=(8, 6))\n",
    "plt.plot(recall, precision, color='blue', lw=2, label='PR curve (area = {0:0.2f})'.format(average_precision))\n",
    "plt.plot([0,1],[1,0], color='black', linestyle='--')\n",
    "plt.xlim([0.0, 1.0])\n",
    "plt.ylim([0.0, 1.05])\n",
    "plt.xlabel('Recall')\n",
    "plt.ylabel('Precision')\n",
    "plt.title('Precision-Recall Curve')\n",
    "plt.legend(loc=\"lower right\")\n",
    "plt.savefig('/kaggle/working/abc_S5KCV_prc_amazon.png')\n",
    "plt.show()"
   ]
  },
  {
   "cell_type": "code",
   "execution_count": 12,
   "id": "bdeb586c",
   "metadata": {
    "execution": {
     "iopub.execute_input": "2024-10-23T03:56:22.920254Z",
     "iopub.status.busy": "2024-10-23T03:56:22.919270Z",
     "iopub.status.idle": "2024-10-23T03:56:23.308408Z",
     "shell.execute_reply": "2024-10-23T03:56:23.307365Z"
    },
    "papermill": {
     "duration": 0.398456,
     "end_time": "2024-10-23T03:56:23.311285",
     "exception": false,
     "start_time": "2024-10-23T03:56:22.912829",
     "status": "completed"
    },
    "tags": []
   },
   "outputs": [
    {
     "name": "stdout",
     "output_type": "stream",
     "text": [
      "Average Area Under the ROC Curve score:  1.0\n"
     ]
    },
    {
     "data": {
      "image/png": "[encoded data removed]",
      "text/plain": [
       "<Figure size 800x600 with 1 Axes>"
      ]
     },
     "metadata": {},
     "output_type": "display_data"
    }
   ],
   "source": [
    "print(\"Average Area Under the ROC Curve score: \", roc_auc)\n",
    "\n",
    "plt.figure(figsize=(8, 6))\n",
    "plt.plot(fpr, tpr, color='blue', lw=2, label='ROC curve (area = {0:0.2f})'.format(roc_auc))\n",
    "plt.plot([0, 1], [0, 1], color='black', linestyle='--')\n",
    "plt.xlim([0.0, 1.0])\n",
    "plt.ylim([0.0, 1.05])\n",
    "plt.xlabel('False Positive Rate (FPR)')\n",
    "plt.ylabel('True Positive Rate (TPR)')\n",
    "plt.title('Receiver Operating Characteristic (ROC) Curve')\n",
    "plt.legend(loc=\"lower right\")\n",
    "plt.savefig('/kaggle/working/abc_S5KCV_roc_amazon.png')\n",
    "plt.show()"
   ]
  },
  {
   "cell_type": "code",
   "execution_count": 13,
   "id": "74ee11cd",
   "metadata": {
    "execution": {
     "iopub.execute_input": "2024-10-23T03:56:23.325410Z",
     "iopub.status.busy": "2024-10-23T03:56:23.324746Z",
     "iopub.status.idle": "2024-10-23T03:56:23.331982Z",
     "shell.execute_reply": "2024-10-23T03:56:23.331119Z"
    },
    "papermill": {
     "duration": 0.016831,
     "end_time": "2024-10-23T03:56:23.334101",
     "exception": false,
     "start_time": "2024-10-23T03:56:23.317270",
     "status": "completed"
    },
    "tags": []
   },
   "outputs": [],
   "source": [
    "output_file_path = '/kaggle/working/adaboost_amazon_scores.txt'\n",
    "with open(output_file_path, 'w') as f: \n",
    "    f.write(\"F1 Score: {}\\n\".format(f1_score_final)) \n",
    "    f.write(\"Precision: {}\\n\".format(precision_final)) \n",
    "    f.write(\"Recall: {}\\n\".format(recall_final)) \n",
    "    f.write(\"PRC AUC: {}\\n\".format(average_precision)) \n",
    "    f.write(\"ROC AUC: {}\\n\".format(roc_auc)) \n",
    "    f.write(\"TPR: {}\\n\".format(tpr)) \n",
    "    f.write(\"FPR: {}\\n\".format(fpr))"
   ]
  },
  {
   "cell_type": "code",
   "execution_count": 14,
   "id": "bebe8eed",
   "metadata": {
    "execution": {
     "iopub.execute_input": "2024-10-23T03:56:23.348360Z",
     "iopub.status.busy": "2024-10-23T03:56:23.347435Z",
     "iopub.status.idle": "2024-10-23T03:56:23.441715Z",
     "shell.execute_reply": "2024-10-23T03:56:23.440474Z"
    },
    "papermill": {
     "duration": 0.103905,
     "end_time": "2024-10-23T03:56:23.444066",
     "exception": false,
     "start_time": "2024-10-23T03:56:23.340161",
     "status": "completed"
    },
    "tags": []
   },
   "outputs": [
    {
     "name": "stdout",
     "output_type": "stream",
     "text": [
      "Type of f1: <class 'numpy.float64'>\n",
      "Type of precision: <class 'numpy.float64'>\n",
      "Type of recall: <class 'numpy.float64'>\n",
      "Type of tpr_value: <class 'numpy.float64'>\n",
      "Type of fpr_value: <class 'numpy.float64'>\n",
      "Type of roc_auc: <class 'numpy.float64'>\n",
      "Type of prc_auc: <class 'numpy.float64'>\n",
      "Type of tpr: <class 'numpy.ndarray'>\n",
      "Type of fpr: <class 'numpy.ndarray'>\n"
     ]
    }
   ],
   "source": [
    "\n",
    "\n",
    "import json\n",
    "\n",
    "# Assuming tpr and fpr are NumPy arrays\n",
    "print(\"Type of f1:\", type(f1_score_final))\n",
    "print(\"Type of precision:\", type(precision_final))\n",
    "print(\"Type of recall:\", type(recall_final))\n",
    "print(\"Type of tpr_value:\", type(tpr_final))\n",
    "print(\"Type of fpr_value:\", type(fpr_final))\n",
    "print(\"Type of roc_auc:\", type(roc_auc))\n",
    "print(\"Type of prc_auc:\", type(average_precision))\n",
    "print(\"Type of tpr:\", type(tpr))\n",
    "print(\"Type of fpr:\", type(fpr))\n",
    "\n",
    "precision_list = precision.tolist()\n",
    "recall_list = recall.tolist()\n",
    "tpr_list = tpr.tolist()\n",
    "fpr_list = fpr.tolist()\n",
    "\n",
    "#print(f1.type())\n",
    "\n",
    "data = {\n",
    "    \"Average F1 Score\": float(f1_score_final), \n",
    "    \"Average Precision\": float(precision_final), \n",
    "    \"Average Recall\": float(recall_final), \n",
    "    \"Average True Positive Rate\": float(tpr_final), \n",
    "    \"Average False Positive Rate\": float(fpr_final), \n",
    "    \"Average ROC AUC\": roc_auc, \n",
    "    \"Average PRC AUC\": average_precision,\n",
    "    \"TPR Array\" : tpr_list,\n",
    "    \"FPR Array\" : fpr_list,\n",
    "    \"Precision Array\": precision_list, \n",
    "    \"Recall Array\": recall_list\n",
    "}\n",
    "\n",
    "# Specify the file path\n",
    "file_path = \"/kaggle/working/Adaboost - Real PCA - Lenny.json\"\n",
    "\n",
    "# Write the data to a JSON file\n",
    "with open(file_path, \"w\") as json_file:\n",
    "    json.dump(data, json_file)"
   ]
  }
 ],
 "metadata": {
  "kaggle": {
   "accelerator": "none",
   "dataSources": [
    {
     "datasetId": 4558394,
     "sourceId": 7787937,
     "sourceType": "datasetVersion"
    },
    {
     "datasetId": 4693874,
     "sourceId": 7975918,
     "sourceType": "datasetVersion"
    },
    {
     "datasetId": 5057734,
     "sourceId": 8479984,
     "sourceType": "datasetVersion"
    }
   ],
   "dockerImageVersionId": 30786,
   "isGpuEnabled": false,
   "isInternetEnabled": true,
   "language": "python",
   "sourceType": "notebook"
  },
  "kernelspec": {
   "display_name": "Python 3",
   "language": "python",
   "name": "python3"
  },
  "language_info": {
   "codemirror_mode": {
    "name": "ipython",
    "version": 3
   },
   "file_extension": ".py",
   "mimetype": "text/x-python",
   "name": "python",
   "nbconvert_exporter": "python",
   "pygments_lexer": "ipython3",
   "version": "3.10.14"
  },
  "papermill": {
   "default_parameters": {},
   "duration": 1156.407948,
   "end_time": "2024-10-23T03:56:24.070336",
   "environment_variables": {},
   "exception": null,
   "input_path": "__notebook__.ipynb",
   "output_path": "__notebook__.ipynb",
   "parameters": {},
   "start_time": "2024-10-23T03:37:07.662388",
   "version": "2.6.0"
  }
 },
 "nbformat": 4,
 "nbformat_minor": 5
}
