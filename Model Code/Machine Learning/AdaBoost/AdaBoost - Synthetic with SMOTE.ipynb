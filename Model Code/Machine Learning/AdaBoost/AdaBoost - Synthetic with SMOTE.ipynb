{
 "cells": [
  {
   "cell_type": "code",
   "execution_count": 1,
   "id": "db70c9fd",
   "metadata": {
    "execution": {
     "iopub.execute_input": "2024-10-21T17:27:43.205786Z",
     "iopub.status.busy": "2024-10-21T17:27:43.205286Z",
     "iopub.status.idle": "2024-10-21T17:27:47.052564Z",
     "shell.execute_reply": "2024-10-21T17:27:47.051361Z"
    },
    "papermill": {
     "duration": 3.857187,
     "end_time": "2024-10-21T17:27:47.055318",
     "exception": false,
     "start_time": "2024-10-21T17:27:43.198131",
     "status": "completed"
    },
    "tags": []
   },
   "outputs": [],
   "source": [
    "from matplotlib import pyplot as plt \n",
    "import pandas as pd\n",
    "import numpy as np\n",
    "import seaborn as sns\n",
    "from sklearn import datasets\n",
    "from sklearn.svm import SVR\n",
    "from sklearn import metrics\n",
    "from sklearn.metrics import confusion_matrix, f1_score, recall_score, precision_score, roc_auc_score, average_precision_score, roc_curve, precision_recall_curve, auc, accuracy_score, make_scorer\n",
    "from sklearn.ensemble import AdaBoostClassifier\n",
    "from sklearn.tree import DecisionTreeClassifier\n",
    "from sklearn.model_selection import train_test_split, StratifiedKFold, cross_val_score, cross_val_predict\n",
    "from sklearn.multioutput import MultiOutputClassifier\n",
    "from itertools import cycle\n",
    "from sklearn.model_selection import KFold\n",
    "from sklearn.metrics import RocCurveDisplay"
   ]
  },
  {
   "cell_type": "code",
   "execution_count": 2,
   "id": "9e00b5fe",
   "metadata": {
    "execution": {
     "iopub.execute_input": "2024-10-21T17:27:47.066512Z",
     "iopub.status.busy": "2024-10-21T17:27:47.065977Z",
     "iopub.status.idle": "2024-10-21T17:27:48.050348Z",
     "shell.execute_reply": "2024-10-21T17:27:48.049100Z"
    },
    "papermill": {
     "duration": 0.992998,
     "end_time": "2024-10-21T17:27:48.053181",
     "exception": false,
     "start_time": "2024-10-21T17:27:47.060183",
     "status": "completed"
    },
    "tags": []
   },
   "outputs": [
    {
     "name": "stdout",
     "output_type": "stream",
     "text": [
      "        0   1   2   3   4    5   6    7    8   9   ...  20  21   22  23  24  \\\n",
      "0        3   8  34  40  83   34  71    3    2  55  ...   3   2   38  26   3   \n",
      "1       19  27  36   6  23    8   1   63   40  38  ...  63  12   47  14  16   \n",
      "2       16  47  98   9  50    7  17  112   50  46  ...  16  17   44  33  55   \n",
      "3       30  84   5  23  43   33   3   39  121  85  ...   3  32   59  63  55   \n",
      "4       19  20  61  14   4    8   4   76   14  44  ...  76  14   52  21   6   \n",
      "...     ..  ..  ..  ..  ..  ...  ..  ...  ...  ..  ...  ..  ..  ...  ..  ..   \n",
      "213563  35  79  28  25  45  126   5   43  102  21  ...   4  45   82  12  61   \n",
      "213564  15  32  37  12   2   12   1   64   23  46  ...  64   9   46  12  47   \n",
      "213565  90  66   8  62  10   84  32   60   45  97  ...  10  20   22  75  50   \n",
      "213566  16  42  98   9  57    6  17  112   49  46  ...  78  48  110  13  60   \n",
      "213567  20  21  28   9  20   40  19   16   42  22  ...  69  33   67  47  49   \n",
      "\n",
      "        25  26  27  28  29  \n",
      "0       56   1   1   0   1  \n",
      "1       30   1   1   1   1  \n",
      "2       56   1   0   1   1  \n",
      "3       49   1   0   0   0  \n",
      "4       11   1   1   0   1  \n",
      "...     ..  ..  ..  ..  ..  \n",
      "213563  40   0   1   0   1  \n",
      "213564  33   0   1   0   1  \n",
      "213565  22   0   1   0   1  \n",
      "213566   9   0   1   0   1  \n",
      "213567  25   0   1   0   1  \n",
      "\n",
      "[213568 rows x 30 columns]\n"
     ]
    }
   ],
   "source": [
    "dataset = pd.read_csv(\"/kaggle/input/combineddata/combinedBalancedDataset.csv\", header = None, delimiter = ',')\n",
    "print(dataset)"
   ]
  },
  {
   "cell_type": "code",
   "execution_count": 3,
   "id": "412ed5e7",
   "metadata": {
    "execution": {
     "iopub.execute_input": "2024-10-21T17:27:48.064395Z",
     "iopub.status.busy": "2024-10-21T17:27:48.063486Z",
     "iopub.status.idle": "2024-10-21T17:27:48.115808Z",
     "shell.execute_reply": "2024-10-21T17:27:48.114442Z"
    },
    "papermill": {
     "duration": 0.060995,
     "end_time": "2024-10-21T17:27:48.118824",
     "exception": false,
     "start_time": "2024-10-21T17:27:48.057829",
     "status": "completed"
    },
    "tags": []
   },
   "outputs": [
    {
     "name": "stdout",
     "output_type": "stream",
     "text": [
      "X of the dataset: \n",
      "         0   1   2   3   4    5   6    7    8   9   ...  16  17   18  19  20  \\\n",
      "0        3   8  34  40  83   34  71    3    2  55  ...   2  55   34  71   3   \n",
      "1       19  27  36   6  23    8   1   63   40  38  ...  40  36    8   4  63   \n",
      "2       16  47  98   9  50    7  17  112   50  46  ...   9  50    1  63  16   \n",
      "3       30  84   5  23  43   33   3   39  121  85  ...  26  33   33  20   3   \n",
      "4       19  20  61  14   4    8   4   76   14  44  ...   3  37    8  28  76   \n",
      "...     ..  ..  ..  ..  ..  ...  ..  ...  ...  ..  ...  ..  ..  ...  ..  ..   \n",
      "213563  35  79  28  25  45  126   5   43  102  21  ...  25  45  108  14   4   \n",
      "213564  15  32  37  12   2   12   1   64   23  46  ...  14  43   18   1  64   \n",
      "213565  90  66   8  62  10   84  32   60   45  97  ...  13   6   84  32  10   \n",
      "213566  16  42  98   9  57    6  17  112   49  46  ...   9  57   27  17  78   \n",
      "213567  20  21  28   9  20   40  19   16   42  22  ...   9  20   22  19  69   \n",
      "\n",
      "        21   22  23  24  25  \n",
      "0        2   38  26   3  56  \n",
      "1       12   47  14  16  30  \n",
      "2       17   44  33  55  56  \n",
      "3       32   59  63  55  49  \n",
      "4       14   52  21   6  11  \n",
      "...     ..  ...  ..  ..  ..  \n",
      "213563  45   82  12  61  40  \n",
      "213564   9   46  12  47  33  \n",
      "213565  20   22  75  50  22  \n",
      "213566  48  110  13  60   9  \n",
      "213567  33   67  47  49  25  \n",
      "\n",
      "[213568 rows x 26 columns]\n",
      "y of the dataset: \n",
      "         26  27  28  29\n",
      "0        1   1   0   1\n",
      "1        1   1   1   1\n",
      "2        1   0   1   1\n",
      "3        1   0   0   0\n",
      "4        1   1   0   1\n",
      "...     ..  ..  ..  ..\n",
      "213563   0   1   0   1\n",
      "213564   0   1   0   1\n",
      "213565   0   1   0   1\n",
      "213566   0   1   0   1\n",
      "213567   0   1   0   1\n",
      "\n",
      "[213568 rows x 4 columns]\n"
     ]
    }
   ],
   "source": [
    "X = dataset.drop(columns = [26,27,28,29])\n",
    "y = dataset.filter([26,27,28,29])\n",
    "print(\"X of the dataset: \\n\",X)\n",
    "print(\"y of the dataset: \\n\", y)"
   ]
  },
  {
   "cell_type": "code",
   "execution_count": 4,
   "id": "33cd782d",
   "metadata": {
    "execution": {
     "iopub.execute_input": "2024-10-21T17:27:48.130805Z",
     "iopub.status.busy": "2024-10-21T17:27:48.130386Z",
     "iopub.status.idle": "2024-10-21T18:21:14.215275Z",
     "shell.execute_reply": "2024-10-21T18:21:14.213318Z"
    },
    "papermill": {
     "duration": 3206.095012,
     "end_time": "2024-10-21T18:21:14.219289",
     "exception": false,
     "start_time": "2024-10-21T17:27:48.124277",
     "status": "completed"
    },
    "tags": []
   },
   "outputs": [],
   "source": [
    "#max_score = 0\n",
    "#best_estimator = 50\n",
    "#best_learning_rate = 1.0\n",
    "#n_estimator_list = [50,100,150,200]\n",
    "#learning_rate_list = [1.0,2.0,3.0]\n",
    "\n",
    "#for e in n_estimator_list:\n",
    "    #for l in learning_rate_list:\n",
    "abc = AdaBoostClassifier(n_estimators = 200,learning_rate = 1.0)\n",
    "classifier = MultiOutputClassifier(abc)\n",
    "kfold = KFold(n_splits=5, shuffle=True, random_state=42)\n",
    "score = cross_val_score(classifier, X, y, cv=kfold)\n",
    "score_mean = score.mean()\n",
    "f1_scorer = make_scorer(f1_score, average='micro')\n",
    "f1_score_value = cross_val_score(classifier, X, y, cv=kfold, scoring= f1_scorer)\n",
    "    #if score_mean > max_score:\n",
    "            #best_scores = score\n",
    "            #max_score = score_mean\n",
    "            #best_estimator = e\n",
    "            #best_learning_rate = l"
   ]
  },
  {
   "cell_type": "code",
   "execution_count": 5,
   "id": "e8c121b5",
   "metadata": {
    "execution": {
     "iopub.execute_input": "2024-10-21T18:21:14.232376Z",
     "iopub.status.busy": "2024-10-21T18:21:14.231938Z",
     "iopub.status.idle": "2024-10-21T18:21:14.239854Z",
     "shell.execute_reply": "2024-10-21T18:21:14.238512Z"
    },
    "papermill": {
     "duration": 0.017687,
     "end_time": "2024-10-21T18:21:14.242876",
     "exception": false,
     "start_time": "2024-10-21T18:21:14.225189",
     "status": "completed"
    },
    "tags": []
   },
   "outputs": [
    {
     "name": "stdout",
     "output_type": "stream",
     "text": [
      "Cross-validation scores: [0.24027251 0.24298825 0.2394297  0.24112097 0.24187016]\n",
      "Average cross-validation score: 0.24113632\n",
      "Standard Deviation of scores: 0.00123508\n"
     ]
    }
   ],
   "source": [
    "print(\"Cross-validation scores: {}\".format(score))\n",
    "print(\"Average cross-validation score: {:.8f}\".format(score_mean))\n",
    "print(\"Standard Deviation of scores: {:.8f}\".format(score.std()))\n",
    "#print(\"Best n_estimator and learning rate: \", best_estimator, best_learning_rate)"
   ]
  },
  {
   "cell_type": "code",
   "execution_count": 6,
   "id": "f81d6aab",
   "metadata": {
    "execution": {
     "iopub.execute_input": "2024-10-21T18:21:14.254736Z",
     "iopub.status.busy": "2024-10-21T18:21:14.254313Z",
     "iopub.status.idle": "2024-10-21T18:21:14.260964Z",
     "shell.execute_reply": "2024-10-21T18:21:14.259433Z"
    },
    "papermill": {
     "duration": 0.015652,
     "end_time": "2024-10-21T18:21:14.263646",
     "exception": false,
     "start_time": "2024-10-21T18:21:14.247994",
     "status": "completed"
    },
    "tags": []
   },
   "outputs": [
    {
     "name": "stdout",
     "output_type": "stream",
     "text": [
      "Average F1 score: 0.6815823644493186\n"
     ]
    }
   ],
   "source": [
    "f1_score_final = f1_score_value.mean()\n",
    "print(\"Average F1 score:\", f1_score_final)"
   ]
  },
  {
   "cell_type": "code",
   "execution_count": 7,
   "id": "c881f020",
   "metadata": {
    "execution": {
     "iopub.execute_input": "2024-10-21T18:21:14.276186Z",
     "iopub.status.busy": "2024-10-21T18:21:14.275512Z",
     "iopub.status.idle": "2024-10-21T18:47:48.119255Z",
     "shell.execute_reply": "2024-10-21T18:47:48.118037Z"
    },
    "papermill": {
     "duration": 1593.858221,
     "end_time": "2024-10-21T18:47:48.127134",
     "exception": false,
     "start_time": "2024-10-21T18:21:14.268913",
     "status": "completed"
    },
    "tags": []
   },
   "outputs": [
    {
     "data": {
      "image/png": "[encoded data removed]",
      "text/plain": [
       "<Figure size 640x480 with 1 Axes>"
      ]
     },
     "metadata": {},
     "output_type": "display_data"
    }
   ],
   "source": [
    "#After you train model, these blocks of code make tpr, fpr, precision and recall from it\n",
    "#I hypertuned it separately to get the best parameters, and once I had the best ones, I used them directly as is\n",
    "# Initialize variables to store fpr and tpr\n",
    "all_fpr = np.linspace(0, 1, 100)\n",
    "mean_tpr = 0.0\n",
    "mean_roc_auc = 0.0\n",
    "\n",
    "# Iterate over folds\n",
    "for train_index, test_index in kfold.split(X):\n",
    "    X_train, X_test = X.iloc[train_index], X.iloc[test_index]\n",
    "    y_train, y_test = y.iloc[train_index], y.iloc[test_index]\n",
    "    \n",
    "    # Fit classifier and predict probabilities\n",
    "    classifier.fit(X_train, y_train)\n",
    "    probs = classifier.predict_proba(X_test)\n",
    "    \n",
    "    # Compute ROC curve for each class\n",
    "    for i in range(y.shape[1]):\n",
    "        fpr, tpr, _ = roc_curve(y_test.iloc[:, i], probs[i][:, 1])\n",
    "        mean_tpr += np.interp(all_fpr, fpr, tpr)\n",
    "        mean_tpr[0] = 0.0\n",
    "        mean_roc_auc += auc(fpr, tpr)\n",
    "\n",
    "# Normalize mean_tpr and mean_auc\n",
    "mean_tpr /= kfold.n_splits * y.shape[1]\n",
    "mean_roc_auc /= kfold.n_splits * y.shape[1]\n",
    "\n",
    "# Plot micro-average ROC curve\n",
    "plt.figure()\n",
    "plt.plot(all_fpr, mean_tpr, color='darkorange', lw=2, label='ROC curve (area = %0.2f)' % mean_roc_auc)\n",
    "plt.plot([0, 1], [0, 1], color='navy', lw=2, linestyle='--')\n",
    "plt.xlim([0.0, 1.0])\n",
    "plt.ylim([0.0, 1.05])\n",
    "plt.xlabel('False Positive Rate')\n",
    "plt.ylabel('True Positive Rate')\n",
    "plt.title('Receiver Operating Characteristic (ROC) curve (micro-average)')\n",
    "plt.legend(loc=\"lower right\")\n",
    "plt.savefig('/kaggle/working/abc_5CV_roc_real_smote.png')\n",
    "plt.show()"
   ]
  },
  {
   "cell_type": "code",
   "execution_count": 8,
   "id": "416b15f4",
   "metadata": {
    "execution": {
     "iopub.execute_input": "2024-10-21T18:47:48.141093Z",
     "iopub.status.busy": "2024-10-21T18:47:48.139929Z",
     "iopub.status.idle": "2024-10-21T19:14:05.498583Z",
     "shell.execute_reply": "2024-10-21T19:14:05.497403Z"
    },
    "papermill": {
     "duration": 1577.374717,
     "end_time": "2024-10-21T19:14:05.507518",
     "exception": false,
     "start_time": "2024-10-21T18:47:48.132801",
     "status": "completed"
    },
    "tags": []
   },
   "outputs": [
    {
     "data": {
      "image/png": "[encoded data removed]",
      "text/plain": [
       "<Figure size 640x480 with 1 Axes>"
      ]
     },
     "metadata": {},
     "output_type": "display_data"
    }
   ],
   "source": [
    "all_recall = np.linspace(0, 1, 100)\n",
    "mean_precision = 0.0\n",
    "mean_prc_auc = 0.0\n",
    "\n",
    "# Iterate over folds\n",
    "for train_index, test_index in kfold.split(X):\n",
    "    X_train, X_test = X.iloc[train_index], X.iloc[test_index]\n",
    "    y_train, y_test = y.iloc[train_index], y.iloc[test_index]\n",
    "    \n",
    "    # Fit classifier and predict probabilities\n",
    "    classifier.fit(X_train, y_train)\n",
    "    probs = classifier.predict_proba(X_test)\n",
    "    \n",
    "    # Compute precision-recall curve for each class\n",
    "    for i in range(y.shape[1]):\n",
    "        precision, recall, _ = precision_recall_curve(y_test.iloc[:, i], probs[i][:, 1])\n",
    "        mean_precision += np.interp(all_recall, recall[::-1], precision[::-1])\n",
    "        mean_precision[0] = 1.0\n",
    "        mean_prc_auc += auc(recall, precision)\n",
    "\n",
    "# Normalize mean_precision and mean_auc\n",
    "mean_precision /= kfold.n_splits * y.shape[1]\n",
    "mean_prc_auc /= kfold.n_splits * y.shape[1]\n",
    "# Plot micro-average precision-recall curve\n",
    "plt.figure()\n",
    "plt.plot(all_recall, mean_precision, color='darkorange', lw=2, label='PR curve (area = %0.2f)' % mean_prc_auc)\n",
    "plt.plot([0,1],[1,0], color='black', lw=2, linestyle='--')\n",
    "plt.xlim([0.0, 1.0])\n",
    "plt.ylim([0.0, 1.05])\n",
    "plt.xlabel('Recall')\n",
    "plt.ylabel('Precision')\n",
    "plt.title('Precision-Recall curve (micro-average)')\n",
    "plt.legend(loc=\"lower right\")\n",
    "plt.savefig('/kaggle/working/abc_5CV_prc_real_smote.png')\n",
    "plt.show()"
   ]
  },
  {
   "cell_type": "code",
   "execution_count": 9,
   "id": "7b6c44aa",
   "metadata": {
    "execution": {
     "iopub.execute_input": "2024-10-21T19:14:05.522606Z",
     "iopub.status.busy": "2024-10-21T19:14:05.522020Z",
     "iopub.status.idle": "2024-10-21T19:14:05.533715Z",
     "shell.execute_reply": "2024-10-21T19:14:05.532442Z"
    },
    "papermill": {
     "duration": 0.022869,
     "end_time": "2024-10-21T19:14:05.536861",
     "exception": false,
     "start_time": "2024-10-21T19:14:05.513992",
     "status": "completed"
    },
    "tags": []
   },
   "outputs": [
    {
     "name": "stdout",
     "output_type": "stream",
     "text": [
      "[0.         0.01010101 0.02020202 0.03030303 0.04040404 0.05050505\n",
      " 0.06060606 0.07070707 0.08080808 0.09090909 0.1010101  0.11111111\n",
      " 0.12121212 0.13131313 0.14141414 0.15151515 0.16161616 0.17171717\n",
      " 0.18181818 0.19191919 0.2020202  0.21212121 0.22222222 0.23232323\n",
      " 0.24242424 0.25252525 0.26262626 0.27272727 0.28282828 0.29292929\n",
      " 0.3030303  0.31313131 0.32323232 0.33333333 0.34343434 0.35353535\n",
      " 0.36363636 0.37373737 0.38383838 0.39393939 0.4040404  0.41414141\n",
      " 0.42424242 0.43434343 0.44444444 0.45454545 0.46464646 0.47474747\n",
      " 0.48484848 0.49494949 0.50505051 0.51515152 0.52525253 0.53535354\n",
      " 0.54545455 0.55555556 0.56565657 0.57575758 0.58585859 0.5959596\n",
      " 0.60606061 0.61616162 0.62626263 0.63636364 0.64646465 0.65656566\n",
      " 0.66666667 0.67676768 0.68686869 0.6969697  0.70707071 0.71717172\n",
      " 0.72727273 0.73737374 0.74747475 0.75757576 0.76767677 0.77777778\n",
      " 0.78787879 0.7979798  0.80808081 0.81818182 0.82828283 0.83838384\n",
      " 0.84848485 0.85858586 0.86868687 0.87878788 0.88888889 0.8989899\n",
      " 0.90909091 0.91919192 0.92929293 0.93939394 0.94949495 0.95959596\n",
      " 0.96969697 0.97979798 0.98989899 1.        ]\n",
      "[0.         0.09277297 0.14044582 0.17946352 0.21412079 0.24446717\n",
      " 0.27261612 0.29873602 0.32294869 0.34528915 0.36692415 0.38703206\n",
      " 0.40701946 0.42651476 0.44490674 0.46256005 0.4795452  0.49554753\n",
      " 0.51204511 0.52712506 0.54182133 0.55601848 0.56936448 0.58277299\n",
      " 0.59579768 0.60819456 0.62070849 0.63272438 0.64413331 0.655542\n",
      " 0.66639956 0.67663933 0.6871053  0.69739913 0.70767103 0.7169529\n",
      " 0.72609449 0.7353993  0.74431364 0.7527687  0.76112144 0.76953441\n",
      " 0.7776873  0.78538111 0.79309321 0.80042069 0.80768108 0.81478933\n",
      " 0.82171885 0.82845891 0.83515264 0.84171952 0.84797274 0.85402774\n",
      " 0.86003967 0.86570013 0.8716159  0.87709641 0.88266031 0.88771036\n",
      " 0.89272999 0.8977379  0.90253246 0.90731279 0.91193231 0.91640867\n",
      " 0.92070166 0.92503986 0.92901589 0.9329861  0.93680275 0.94058208\n",
      " 0.94440793 0.94801284 0.95122672 0.95463238 0.9578192  0.96094216\n",
      " 0.9638051  0.96660559 0.96942609 0.97206407 0.97453679 0.97687792\n",
      " 0.97907618 0.98127    0.98349835 0.98554013 0.9875088  0.98926906\n",
      " 0.99088211 0.99250762 0.99374644 0.99494778 0.99614177 0.99730787\n",
      " 0.99829114 0.99908451 0.99975638 1.        ]\n",
      "[0.         0.01010101 0.02020202 0.03030303 0.04040404 0.05050505\n",
      " 0.06060606 0.07070707 0.08080808 0.09090909 0.1010101  0.11111111\n",
      " 0.12121212 0.13131313 0.14141414 0.15151515 0.16161616 0.17171717\n",
      " 0.18181818 0.19191919 0.2020202  0.21212121 0.22222222 0.23232323\n",
      " 0.24242424 0.25252525 0.26262626 0.27272727 0.28282828 0.29292929\n",
      " 0.3030303  0.31313131 0.32323232 0.33333333 0.34343434 0.35353535\n",
      " 0.36363636 0.37373737 0.38383838 0.39393939 0.4040404  0.41414141\n",
      " 0.42424242 0.43434343 0.44444444 0.45454545 0.46464646 0.47474747\n",
      " 0.48484848 0.49494949 0.50505051 0.51515152 0.52525253 0.53535354\n",
      " 0.54545455 0.55555556 0.56565657 0.57575758 0.58585859 0.5959596\n",
      " 0.60606061 0.61616162 0.62626263 0.63636364 0.64646465 0.65656566\n",
      " 0.66666667 0.67676768 0.68686869 0.6969697  0.70707071 0.71717172\n",
      " 0.72727273 0.73737374 0.74747475 0.75757576 0.76767677 0.77777778\n",
      " 0.78787879 0.7979798  0.80808081 0.81818182 0.82828283 0.83838384\n",
      " 0.84848485 0.85858586 0.86868687 0.87878788 0.88888889 0.8989899\n",
      " 0.90909091 0.91919192 0.92929293 0.93939394 0.94949495 0.95959596\n",
      " 0.96969697 0.97979798 0.98989899 1.        ]\n",
      "[0.05       0.97648498 0.96951896 0.95888939 0.94649674 0.93486986\n",
      " 0.92585654 0.91719703 0.90911849 0.90284885 0.89628425 0.88891808\n",
      " 0.88278693 0.87757188 0.87271204 0.86779381 0.86281856 0.85802944\n",
      " 0.85342177 0.84916535 0.84456883 0.84082569 0.83699339 0.83325826\n",
      " 0.82893342 0.82507685 0.82161377 0.81773357 0.81405477 0.81045874\n",
      " 0.80643946 0.80284772 0.79942893 0.79573831 0.79250025 0.7889245\n",
      " 0.78558943 0.78176274 0.77845784 0.77504234 0.77165306 0.76837124\n",
      " 0.76559424 0.7620694  0.7587461  0.75539868 0.75203615 0.74913447\n",
      " 0.74627247 0.74331481 0.74020649 0.7371443  0.73375509 0.73069117\n",
      " 0.72758362 0.72420855 0.72075134 0.71732325 0.71417398 0.71107337\n",
      " 0.70776379 0.70434352 0.70089465 0.69766976 0.69427593 0.69077577\n",
      " 0.68732143 0.68394453 0.68051863 0.67685203 0.67340277 0.66992879\n",
      " 0.66616359 0.66238542 0.65869499 0.65502738 0.65103341 0.64726005\n",
      " 0.64334485 0.63914453 0.63485434 0.63055337 0.6261348  0.62188094\n",
      " 0.61732987 0.61288966 0.60815078 0.60286875 0.59782879 0.59254723\n",
      " 0.58696562 0.58114523 0.57503485 0.56833957 0.56143347 0.5537982\n",
      " 0.54546094 0.53514098 0.52339505 0.5       ]\n"
     ]
    }
   ],
   "source": [
    "print(all_fpr)\n",
    "print(mean_tpr)\n",
    "print(all_recall)\n",
    "print(mean_precision)"
   ]
  },
  {
   "cell_type": "code",
   "execution_count": 10,
   "id": "ed90e5f5",
   "metadata": {
    "execution": {
     "iopub.execute_input": "2024-10-21T19:14:05.552621Z",
     "iopub.status.busy": "2024-10-21T19:14:05.552232Z",
     "iopub.status.idle": "2024-10-21T19:14:05.565925Z",
     "shell.execute_reply": "2024-10-21T19:14:05.564717Z"
    },
    "papermill": {
     "duration": 0.025144,
     "end_time": "2024-10-21T19:14:05.568741",
     "exception": false,
     "start_time": "2024-10-21T19:14:05.543597",
     "status": "completed"
    },
    "tags": []
   },
   "outputs": [],
   "source": [
    "output_file_path = '/kaggle/working/adaboost_real_smote_scores.txt'\n",
    "with open(output_file_path, 'w') as f: \n",
    "    f.write(\"F1 Score: {}\\n\".format(f1_score_final))\n",
    "    f.write(\"Precision: {}\\n\".format(mean_precision)) \n",
    "    f.write(\"Recall: {}\\n\".format(all_recall)) \n",
    "    f.write(\"PRC AUC: {}\\n\".format(mean_prc_auc)) \n",
    "    f.write(\"ROC AUC: {}\\n\".format(mean_roc_auc)) \n",
    "    f.write(\"TPR: {}\\n\".format(mean_tpr)) \n",
    "    f.write(\"FPR: {}\\n\".format(all_fpr))"
   ]
  }
 ],
 "metadata": {
  "kaggle": {
   "accelerator": "none",
   "dataSources": [
    {
     "datasetId": 4388444,
     "sourceId": 7535639,
     "sourceType": "datasetVersion"
    },
    {
     "datasetId": 4388998,
     "sourceId": 7536991,
     "sourceType": "datasetVersion"
    }
   ],
   "dockerImageVersionId": 30665,
   "isGpuEnabled": false,
   "isInternetEnabled": true,
   "language": "python",
   "sourceType": "notebook"
  },
  "kernelspec": {
   "display_name": "Python 3",
   "language": "python",
   "name": "python3"
  },
  "language_info": {
   "codemirror_mode": {
    "name": "ipython",
    "version": 3
   },
   "file_extension": ".py",
   "mimetype": "text/x-python",
   "name": "python",
   "nbconvert_exporter": "python",
   "pygments_lexer": "ipython3",
   "version": "3.10.13"
  },
  "papermill": {
   "default_parameters": {},
   "duration": 6386.992324,
   "end_time": "2024-10-21T19:14:06.315017",
   "environment_variables": {},
   "exception": null,
   "input_path": "__notebook__.ipynb",
   "output_path": "__notebook__.ipynb",
   "parameters": {},
   "start_time": "2024-10-21T17:27:39.322693",
   "version": "2.5.0"
  }
 },
 "nbformat": 4,
 "nbformat_minor": 5
}
