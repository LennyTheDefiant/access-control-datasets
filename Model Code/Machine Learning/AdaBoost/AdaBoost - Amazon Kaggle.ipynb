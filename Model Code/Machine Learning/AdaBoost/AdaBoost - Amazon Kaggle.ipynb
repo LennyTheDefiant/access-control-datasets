{
 "cells": [
  {
   "cell_type": "code",
   "execution_count": 1,
   "id": "af97599f",
   "metadata": {
    "_cell_guid": "b1076dfc-b9ad-4769-8c92-a6c4dae69d19",
    "_uuid": "8f2839f25d086af736a60e9eeb907d3b93b6e0e5",
    "execution": {
     "iopub.execute_input": "2024-10-21T17:26:00.875770Z",
     "iopub.status.busy": "2024-10-21T17:26:00.875372Z",
     "iopub.status.idle": "2024-10-21T17:26:04.070268Z",
     "shell.execute_reply": "2024-10-21T17:26:04.069235Z"
    },
    "papermill": {
     "duration": 3.205575,
     "end_time": "2024-10-21T17:26:04.073115",
     "exception": false,
     "start_time": "2024-10-21T17:26:00.867540",
     "status": "completed"
    },
    "tags": []
   },
   "outputs": [],
   "source": [
    "from matplotlib import pyplot as plt \n",
    "import pandas as pd\n",
    "import numpy as np\n",
    "import seaborn as sns\n",
    "from sklearn import datasets\n",
    "from sklearn.svm import SVR\n",
    "from sklearn import metrics\n",
    "from sklearn.metrics import confusion_matrix, f1_score, recall_score, precision_score, roc_auc_score, average_precision_score, roc_curve, precision_recall_curve, auc, accuracy_score\n",
    "from sklearn.model_selection import train_test_split\n",
    "from sklearn.multiclass import OneVsRestClassifier\n",
    "from sklearn.ensemble import AdaBoostClassifier\n",
    "from sklearn.tree import DecisionTreeClassifier\n",
    "from sklearn.model_selection import StratifiedKFold, cross_val_score, cross_val_predict"
   ]
  },
  {
   "cell_type": "code",
   "execution_count": 2,
   "id": "68f67277",
   "metadata": {
    "execution": {
     "iopub.execute_input": "2024-10-21T17:26:04.086531Z",
     "iopub.status.busy": "2024-10-21T17:26:04.085988Z",
     "iopub.status.idle": "2024-10-21T17:26:04.191361Z",
     "shell.execute_reply": "2024-10-21T17:26:04.190246Z"
    },
    "papermill": {
     "duration": 0.11514,
     "end_time": "2024-10-21T17:26:04.194169",
     "exception": false,
     "start_time": "2024-10-21T17:26:04.079029",
     "status": "completed"
    },
    "tags": []
   },
   "outputs": [],
   "source": [
    "dataset_train = pd.read_csv(\"/kaggle/input/train-test-amazon1/train_test_amazon1.sample\", header = None, delimiter = ' ')"
   ]
  },
  {
   "cell_type": "code",
   "execution_count": 3,
   "id": "b9d57561",
   "metadata": {
    "execution": {
     "iopub.execute_input": "2024-10-21T17:26:04.207843Z",
     "iopub.status.busy": "2024-10-21T17:26:04.206590Z",
     "iopub.status.idle": "2024-10-21T17:26:04.225531Z",
     "shell.execute_reply": "2024-10-21T17:26:04.224441Z"
    },
    "papermill": {
     "duration": 0.028207,
     "end_time": "2024-10-21T17:26:04.228022",
     "exception": false,
     "start_time": "2024-10-21T17:26:04.199815",
     "status": "completed"
    },
    "tags": []
   },
   "outputs": [
    {
     "name": "stdout",
     "output_type": "stream",
     "text": [
      "         0     1      2       3       4       5       6       7       8   \\\n",
      "0      7780  1616   6831  117961  117969    6725  125687  202487    6725   \n",
      "1      8208  3725  20412  117890  117891  117878  117879  117879   19721   \n",
      "2      1062  6982  51172  117961  118225  120551  120690  120691  290919   \n",
      "3      3288  7102  46788  117929  117940  117920  118568  163031   19721   \n",
      "4      8278  5785  19881  118006  118007  117941  118568  292195   19721   \n",
      "...     ...   ...    ...     ...     ...     ...     ...     ...     ...   \n",
      "32764  3835  7514   3608  117961  118052  120671  120418  232183  249618   \n",
      "32765  2153  6284   1030  117961  118343  120722  118361  118362  118363   \n",
      "32766   187  1919   7212  117961  118300  124725  124194  145500  118363   \n",
      "32767  2736  3839   5504  117961  118300  118514  117905  117906  290919   \n",
      "32768  8310  3352  15503  118573  118574  118623  118995  144259  292795   \n",
      "\n",
      "           9       10  11  \n",
      "0      125689   20895   1  \n",
      "1      117880   31441   1  \n",
      "2      120692   80769   1  \n",
      "3      118570   20298   1  \n",
      "4      118570   45610   1  \n",
      "...       ...     ...  ..  \n",
      "32764  120419   39262   1  \n",
      "32765  118364  117787   1  \n",
      "32766  124196     998   1  \n",
      "32767  117908   81478   1  \n",
      "32768  118997   15714   1  \n",
      "\n",
      "[32769 rows x 12 columns]\n"
     ]
    }
   ],
   "source": [
    "print(dataset_train)"
   ]
  },
  {
   "cell_type": "code",
   "execution_count": 4,
   "id": "21b4c220",
   "metadata": {
    "execution": {
     "iopub.execute_input": "2024-10-21T17:26:04.241079Z",
     "iopub.status.busy": "2024-10-21T17:26:04.240665Z",
     "iopub.status.idle": "2024-10-21T17:26:04.258583Z",
     "shell.execute_reply": "2024-10-21T17:26:04.257356Z"
    },
    "papermill": {
     "duration": 0.027233,
     "end_time": "2024-10-21T17:26:04.260963",
     "exception": false,
     "start_time": "2024-10-21T17:26:04.233730",
     "status": "completed"
    },
    "tags": []
   },
   "outputs": [
    {
     "name": "stdout",
     "output_type": "stream",
     "text": [
      "X of dataset:          0     1      2       3       4       5       6       7       8   \\\n",
      "0      7780  1616   6831  117961  117969    6725  125687  202487    6725   \n",
      "1      8208  3725  20412  117890  117891  117878  117879  117879   19721   \n",
      "2      1062  6982  51172  117961  118225  120551  120690  120691  290919   \n",
      "3      3288  7102  46788  117929  117940  117920  118568  163031   19721   \n",
      "4      8278  5785  19881  118006  118007  117941  118568  292195   19721   \n",
      "...     ...   ...    ...     ...     ...     ...     ...     ...     ...   \n",
      "32764  3835  7514   3608  117961  118052  120671  120418  232183  249618   \n",
      "32765  2153  6284   1030  117961  118343  120722  118361  118362  118363   \n",
      "32766   187  1919   7212  117961  118300  124725  124194  145500  118363   \n",
      "32767  2736  3839   5504  117961  118300  118514  117905  117906  290919   \n",
      "32768  8310  3352  15503  118573  118574  118623  118995  144259  292795   \n",
      "\n",
      "           9       10  \n",
      "0      125689   20895  \n",
      "1      117880   31441  \n",
      "2      120692   80769  \n",
      "3      118570   20298  \n",
      "4      118570   45610  \n",
      "...       ...     ...  \n",
      "32764  120419   39262  \n",
      "32765  118364  117787  \n",
      "32766  124196     998  \n",
      "32767  117908   81478  \n",
      "32768  118997   15714  \n",
      "\n",
      "[32769 rows x 11 columns]\n",
      "y of dataset: [1 1 1 ... 1 1 1]\n"
     ]
    }
   ],
   "source": [
    "X = dataset_train.drop(columns = [11])\n",
    "y = dataset_train.filter([11])\n",
    "y = np.ravel(y)\n",
    "print('X of dataset:',X)\n",
    "print('y of dataset:',y)"
   ]
  },
  {
   "cell_type": "code",
   "execution_count": 5,
   "id": "672ae7c2",
   "metadata": {
    "execution": {
     "iopub.execute_input": "2024-10-21T17:26:04.274175Z",
     "iopub.status.busy": "2024-10-21T17:26:04.273752Z",
     "iopub.status.idle": "2024-10-21T17:26:04.287379Z",
     "shell.execute_reply": "2024-10-21T17:26:04.286279Z"
    },
    "papermill": {
     "duration": 0.023256,
     "end_time": "2024-10-21T17:26:04.289958",
     "exception": false,
     "start_time": "2024-10-21T17:26:04.266702",
     "status": "completed"
    },
    "tags": []
   },
   "outputs": [],
   "source": [
    "X_train, X_test, y_train, y_test = train_test_split(X, y, test_size = 0.2, random_state =42) "
   ]
  },
  {
   "cell_type": "code",
   "execution_count": 6,
   "id": "99ad649b",
   "metadata": {
    "execution": {
     "iopub.execute_input": "2024-10-21T17:26:04.303499Z",
     "iopub.status.busy": "2024-10-21T17:26:04.303097Z",
     "iopub.status.idle": "2024-10-21T17:36:21.504062Z",
     "shell.execute_reply": "2024-10-21T17:36:21.502847Z"
    },
    "papermill": {
     "duration": 617.211397,
     "end_time": "2024-10-21T17:36:21.507234",
     "exception": false,
     "start_time": "2024-10-21T17:26:04.295837",
     "status": "completed"
    },
    "tags": []
   },
   "outputs": [],
   "source": [
    "#uses stratified 5-fold cross-validation\n",
    "max_score = 0\n",
    "best_estimator = 50\n",
    "best_learning_rate = 1.0\n",
    "n_estimator_list = [50,100,150,200]\n",
    "learning_rate_list = [1.0,2.0,3.0,5.0,7.0,9.0]\n",
    "\n",
    "for e_ in n_estimator_list:\n",
    "    for l_ in learning_rate_list:\n",
    "        abc = AdaBoostClassifier(n_estimators=e_,learning_rate=l_)\n",
    "        skf = StratifiedKFold(n_splits=5, shuffle=True, random_state=42)\n",
    "        score = cross_val_score(abc, X, y, cv=skf)\n",
    "        score_mean = score.mean()\n",
    "        if score_mean > max_score:\n",
    "            best_scores = score\n",
    "            max_score = score_mean\n",
    "            best_estimator = e_\n",
    "            best_learning_rate = l_\n",
    "            y_probs = cross_val_predict(abc, X, y, cv=skf, method = 'predict_proba')\n",
    "            \n",
    "            f1_score_value = cross_val_score(abc, X, y, cv=skf, scoring='f1')\n",
    "            recall_score_value = cross_val_score(abc, X, y, cv=skf, scoring='recall')\n",
    "            precision_score_value = cross_val_score(abc, X, y, cv=skf, scoring='precision')"
   ]
  },
  {
   "cell_type": "code",
   "execution_count": 7,
   "id": "667f1963",
   "metadata": {
    "execution": {
     "iopub.execute_input": "2024-10-21T17:36:21.520942Z",
     "iopub.status.busy": "2024-10-21T17:36:21.520496Z",
     "iopub.status.idle": "2024-10-21T17:36:21.528036Z",
     "shell.execute_reply": "2024-10-21T17:36:21.526915Z"
    },
    "papermill": {
     "duration": 0.017122,
     "end_time": "2024-10-21T17:36:21.530514",
     "exception": false,
     "start_time": "2024-10-21T17:36:21.513392",
     "status": "completed"
    },
    "tags": []
   },
   "outputs": [
    {
     "name": "stdout",
     "output_type": "stream",
     "text": [
      "Cross-validation scores: [0.94247788 0.94217272 0.94202014 0.94217272 0.9423165 ]\n",
      "Average cross-validation score: 0.94223199\n",
      "Standard Deviation of scores: 0.00015460\n",
      "Best n_estimator and learning rate:  150 1.0\n"
     ]
    }
   ],
   "source": [
    "print(\"Cross-validation scores: {}\".format(best_scores))\n",
    "print(\"Average cross-validation score: {:.8f}\".format(max_score))\n",
    "print(\"Standard Deviation of scores: {:.8f}\".format(best_scores.std()))\n",
    "print(\"Best n_estimator and learning rate: \", best_estimator, best_learning_rate)"
   ]
  },
  {
   "cell_type": "code",
   "execution_count": 8,
   "id": "182539bf",
   "metadata": {
    "execution": {
     "iopub.execute_input": "2024-10-21T17:36:21.544331Z",
     "iopub.status.busy": "2024-10-21T17:36:21.543935Z",
     "iopub.status.idle": "2024-10-21T17:36:21.549436Z",
     "shell.execute_reply": "2024-10-21T17:36:21.548354Z"
    },
    "papermill": {
     "duration": 0.015075,
     "end_time": "2024-10-21T17:36:21.551819",
     "exception": false,
     "start_time": "2024-10-21T17:36:21.536744",
     "status": "completed"
    },
    "tags": []
   },
   "outputs": [],
   "source": [
    "f1_score_final = f1_score_value.mean()\n",
    "recall_final = recall_score_value.mean()\n",
    "precision_final = precision_score_value.mean()"
   ]
  },
  {
   "cell_type": "code",
   "execution_count": 9,
   "id": "190d80f7",
   "metadata": {
    "execution": {
     "iopub.execute_input": "2024-10-21T17:36:21.565692Z",
     "iopub.status.busy": "2024-10-21T17:36:21.564806Z",
     "iopub.status.idle": "2024-10-21T17:36:21.570852Z",
     "shell.execute_reply": "2024-10-21T17:36:21.569753Z"
    },
    "papermill": {
     "duration": 0.015465,
     "end_time": "2024-10-21T17:36:21.573230",
     "exception": false,
     "start_time": "2024-10-21T17:36:21.557765",
     "status": "completed"
    },
    "tags": []
   },
   "outputs": [
    {
     "name": "stdout",
     "output_type": "stream",
     "text": [
      "Average F1 score:  0.9702456709318643\n",
      "Average Recall score:  0.9997408644583725\n",
      "Average Precision score:  0.9424410233507071\n"
     ]
    }
   ],
   "source": [
    "print(\"Average F1 score: \", f1_score_final)\n",
    "print(\"Average Recall score: \", recall_final)\n",
    "print(\"Average Precision score: \", precision_final)"
   ]
  },
  {
   "cell_type": "code",
   "execution_count": 10,
   "id": "1ea79d9e",
   "metadata": {
    "execution": {
     "iopub.execute_input": "2024-10-21T17:36:21.587519Z",
     "iopub.status.busy": "2024-10-21T17:36:21.586502Z",
     "iopub.status.idle": "2024-10-21T17:36:21.614607Z",
     "shell.execute_reply": "2024-10-21T17:36:21.613637Z"
    },
    "papermill": {
     "duration": 0.038121,
     "end_time": "2024-10-21T17:36:21.617272",
     "exception": false,
     "start_time": "2024-10-21T17:36:21.579151",
     "status": "completed"
    },
    "tags": []
   },
   "outputs": [],
   "source": [
    "y_probs_positive = y_probs[:, 1]\n",
    "fpr, tpr, _ = roc_curve(y, y_probs_positive)\n",
    "roc_auc = auc(fpr, tpr)\n",
    "precision, recall, _ = precision_recall_curve(y, y_probs_positive)\n",
    "average_precision = average_precision_score(y, y_probs_positive)\n",
    "\n",
    "tpr_final = tpr.mean()\n",
    "fpr_final = fpr.mean()"
   ]
  },
  {
   "cell_type": "code",
   "execution_count": 11,
   "id": "05de3547",
   "metadata": {
    "execution": {
     "iopub.execute_input": "2024-10-21T17:36:21.631093Z",
     "iopub.status.busy": "2024-10-21T17:36:21.630592Z",
     "iopub.status.idle": "2024-10-21T17:36:21.636052Z",
     "shell.execute_reply": "2024-10-21T17:36:21.634930Z"
    },
    "papermill": {
     "duration": 0.015648,
     "end_time": "2024-10-21T17:36:21.639027",
     "exception": false,
     "start_time": "2024-10-21T17:36:21.623379",
     "status": "completed"
    },
    "tags": []
   },
   "outputs": [
    {
     "name": "stdout",
     "output_type": "stream",
     "text": [
      "Average tpr: 0.6317743474374967\n",
      "Average fpr: 0.3915708285638276\n"
     ]
    }
   ],
   "source": [
    "print('Average tpr:',tpr_final)\n",
    "print('Average fpr:',fpr_final)"
   ]
  },
  {
   "cell_type": "code",
   "execution_count": 12,
   "id": "0849a038",
   "metadata": {
    "execution": {
     "iopub.execute_input": "2024-10-21T17:36:21.653034Z",
     "iopub.status.busy": "2024-10-21T17:36:21.652330Z",
     "iopub.status.idle": "2024-10-21T17:36:22.111933Z",
     "shell.execute_reply": "2024-10-21T17:36:22.110782Z"
    },
    "papermill": {
     "duration": 0.469441,
     "end_time": "2024-10-21T17:36:22.114465",
     "exception": false,
     "start_time": "2024-10-21T17:36:21.645024",
     "status": "completed"
    },
    "tags": []
   },
   "outputs": [
    {
     "name": "stdout",
     "output_type": "stream",
     "text": [
      "Average Area Under the PR Curve score:  0.9749748468685902\n"
     ]
    },
    {
     "data": {
      "image/png": "[encoded data removed]",
      "text/plain": [
       "<Figure size 800x600 with 1 Axes>"
      ]
     },
     "metadata": {},
     "output_type": "display_data"
    }
   ],
   "source": [
    "print(\"Average Area Under the PR Curve score: \", average_precision)\n",
    "\n",
    "plt.figure(figsize=(8, 6))\n",
    "plt.plot(recall, precision, color='blue', lw=2, label='PR curve (area = {0:0.2f})'.format(average_precision))\n",
    "plt.plot([0,1],[1,0], color='black', linestyle='--')\n",
    "plt.xlim([0.0, 1.0])\n",
    "plt.ylim([0.0, 1.05])\n",
    "plt.xlabel('Recall')\n",
    "plt.ylabel('Precision')\n",
    "plt.title('Precision-Recall Curve')\n",
    "plt.legend(loc=\"lower right\")\n",
    "plt.savefig('/kaggle/working/abc_S5KCV_prc_amazon.png')\n",
    "plt.show()"
   ]
  },
  {
   "cell_type": "code",
   "execution_count": 13,
   "id": "35855889",
   "metadata": {
    "execution": {
     "iopub.execute_input": "2024-10-21T17:36:22.129949Z",
     "iopub.status.busy": "2024-10-21T17:36:22.129531Z",
     "iopub.status.idle": "2024-10-21T17:36:22.512419Z",
     "shell.execute_reply": "2024-10-21T17:36:22.511399Z"
    },
    "papermill": {
     "duration": 0.393894,
     "end_time": "2024-10-21T17:36:22.515293",
     "exception": false,
     "start_time": "2024-10-21T17:36:22.121399",
     "status": "completed"
    },
    "tags": []
   },
   "outputs": [
    {
     "name": "stdout",
     "output_type": "stream",
     "text": [
      "Average Area Under the ROC Curve score:  0.7333940314100509\n"
     ]
    },
    {
     "data": {
      "image/png": "[encoded data removed]",
      "text/plain": [
       "<Figure size 800x600 with 1 Axes>"
      ]
     },
     "metadata": {},
     "output_type": "display_data"
    }
   ],
   "source": [
    "print(\"Average Area Under the ROC Curve score: \", roc_auc)\n",
    "\n",
    "plt.figure(figsize=(8, 6))\n",
    "plt.plot(fpr, tpr, color='blue', lw=2, label='ROC curve (area = {0:0.2f})'.format(roc_auc))\n",
    "plt.plot([0, 1], [0, 1], color='black', linestyle='--')\n",
    "plt.xlim([0.0, 1.0])\n",
    "plt.ylim([0.0, 1.05])\n",
    "plt.xlabel('False Positive Rate (FPR)')\n",
    "plt.ylabel('True Positive Rate (TPR)')\n",
    "plt.title('Receiver Operating Characteristic (ROC) Curve')\n",
    "plt.legend(loc=\"lower right\")\n",
    "plt.savefig('/kaggle/working/abc_S5KCV_roc_amazon.png')\n",
    "plt.show()"
   ]
  },
  {
   "cell_type": "code",
   "execution_count": 14,
   "id": "6ef1adb1",
   "metadata": {
    "execution": {
     "iopub.execute_input": "2024-10-21T17:36:22.533488Z",
     "iopub.status.busy": "2024-10-21T17:36:22.532550Z",
     "iopub.status.idle": "2024-10-21T17:36:22.540744Z",
     "shell.execute_reply": "2024-10-21T17:36:22.539761Z"
    },
    "papermill": {
     "duration": 0.019817,
     "end_time": "2024-10-21T17:36:22.543285",
     "exception": false,
     "start_time": "2024-10-21T17:36:22.523468",
     "status": "completed"
    },
    "tags": []
   },
   "outputs": [],
   "source": [
    "output_file_path = '/kaggle/working/adaboost_amazon_scores.txt'\n",
    "with open(output_file_path, 'w') as f: \n",
    "    f.write(\"F1 Score: {}\\n\".format(f1_score_final)) \n",
    "    f.write(\"Precision: {}\\n\".format(precision_final)) \n",
    "    f.write(\"Recall: {}\\n\".format(recall_final)) \n",
    "    f.write(\"PRC AUC: {}\\n\".format(average_precision)) \n",
    "    f.write(\"ROC AUC: {}\\n\".format(roc_auc)) \n",
    "    f.write(\"TPR: {}\\n\".format(tpr)) \n",
    "    f.write(\"FPR: {}\\n\".format(fpr))"
   ]
  }
 ],
 "metadata": {
  "kaggle": {
   "accelerator": "none",
   "dataSources": [
    {
     "datasetId": 4558394,
     "sourceId": 7787937,
     "sourceType": "datasetVersion"
    },
    {
     "datasetId": 4693874,
     "sourceId": 7975918,
     "sourceType": "datasetVersion"
    }
   ],
   "dockerImageVersionId": 30665,
   "isGpuEnabled": false,
   "isInternetEnabled": true,
   "language": "python",
   "sourceType": "notebook"
  },
  "kernelspec": {
   "display_name": "Python 3",
   "language": "python",
   "name": "python3"
  },
  "language_info": {
   "codemirror_mode": {
    "name": "ipython",
    "version": 3
   },
   "file_extension": ".py",
   "mimetype": "text/x-python",
   "name": "python",
   "nbconvert_exporter": "python",
   "pygments_lexer": "ipython3",
   "version": "3.10.13"
  },
  "papermill": {
   "default_parameters": {},
   "duration": 625.955645,
   "end_time": "2024-10-21T17:36:23.175148",
   "environment_variables": {},
   "exception": null,
   "input_path": "__notebook__.ipynb",
   "output_path": "__notebook__.ipynb",
   "parameters": {},
   "start_time": "2024-10-21T17:25:57.219503",
   "version": "2.5.0"
  }
 },
 "nbformat": 4,
 "nbformat_minor": 5
}
