{
 "cells": [
  {
   "cell_type": "code",
   "execution_count": 1,
   "id": "4ac3ef47",
   "metadata": {
    "execution": {
     "iopub.execute_input": "2024-10-23T05:30:43.980082Z",
     "iopub.status.busy": "2024-10-23T05:30:43.979774Z",
     "iopub.status.idle": "2024-10-23T05:30:58.413863Z",
     "shell.execute_reply": "2024-10-23T05:30:58.412652Z"
    },
    "papermill": {
     "duration": 14.442218,
     "end_time": "2024-10-23T05:30:58.416917",
     "exception": false,
     "start_time": "2024-10-23T05:30:43.974699",
     "status": "completed"
    },
    "tags": []
   },
   "outputs": [
    {
     "name": "stderr",
     "output_type": "stream",
     "text": [
      "2024-10-23 05:30:45.710204: E external/local_xla/xla/stream_executor/cuda/cuda_dnn.cc:9261] Unable to register cuDNN factory: Attempting to register factory for plugin cuDNN when one has already been registered\n",
      "2024-10-23 05:30:45.710317: E external/local_xla/xla/stream_executor/cuda/cuda_fft.cc:607] Unable to register cuFFT factory: Attempting to register factory for plugin cuFFT when one has already been registered\n",
      "2024-10-23 05:30:45.849917: E external/local_xla/xla/stream_executor/cuda/cuda_blas.cc:1515] Unable to register cuBLAS factory: Attempting to register factory for plugin cuBLAS when one has already been registered\n"
     ]
    },
    {
     "name": "stdout",
     "output_type": "stream",
     "text": [
      "        0    1    2   3   4    5    6   7   8   9   ...  20  21   22  23  24  \\\n",
      "0       83   77    7  21  11   11   41  19   9  83  ...   7  34   24  12  38   \n",
      "1       11    3  106  42   5    8  110   9  92   1  ...  10   9  125  52  11   \n",
      "2       18   50   20  15  18   12   17  46  40  26  ...  12   2   26  47   3   \n",
      "3        4   21  100   9  61    7   18  74  50  23  ...  75  18   67  22   8   \n",
      "4       10  103   97  62  40   49   20  90  22  11  ...  28  40   86  78  19   \n",
      "...     ..  ...  ...  ..  ..  ...  ...  ..  ..  ..  ...  ..  ..  ...  ..  ..   \n",
      "147108  96   77   36  69   6    6   77  70  45  88  ...   9  34   24  31  22   \n",
      "147109  10    2    5  51  10   62   20  55  83  12  ...  10  19   85  80  53   \n",
      "147110  31   51    5   1  74  105   51  65  20  49  ...  25  59   86  17  60   \n",
      "147111   9    1   28   2  20   12   14  74  50  23  ...  74  39   36  22  18   \n",
      "147112  16   17    2   2  60    7   14  74  50  16  ...  74   5   44  14   5   \n",
      "\n",
      "        25  26  27  28  29  \n",
      "0       37   1   0   0   1  \n",
      "1       35   1   1   0   0  \n",
      "2       56   0   1   1   0  \n",
      "3       15   0   1   0   0  \n",
      "4       20   1   1   0   0  \n",
      "...     ..  ..  ..  ..  ..  \n",
      "147108   5   0   0   0   0  \n",
      "147109  13   0   0   1   1  \n",
      "147110  42   1   1   1   0  \n",
      "147111  16   0   0   0   1  \n",
      "147112  52   0   0   0   1  \n",
      "\n",
      "[147113 rows x 30 columns]\n"
     ]
    }
   ],
   "source": [
    "import tensorflow.compat.v1 as tf\n",
    "tf.disable_v2_behavior()\n",
    "import numpy as np\n",
    "import pandas as pd\n",
    "import matplotlib.pyplot as plt\n",
    "from tensorflow.keras.layers import Conv2D ,SeparableConv2D, MaxPooling2D , Input , GlobalAveragePooling2D ,AveragePooling2D, Dense , Dropout ,Activation, Flatten , BatchNormalization, add\n",
    "from tensorflow.keras.optimizers import Adam\n",
    "from tensorflow.keras.models import Model, save_model\n",
    "from tensorflow.keras.preprocessing import image\n",
    "from tensorflow.keras.preprocessing.image import ImageDataGenerator\n",
    "from tensorflow.keras.utils import to_categorical\n",
    "from numpy import loadtxt\n",
    "from sklearn import metrics\n",
    "from sklearn.metrics import f1_score, recall_score, confusion_matrix, roc_auc_score, average_precision_score\n",
    "from sklearn.metrics import roc_curve, precision_recall_curve, auc\n",
    "from sklearn.model_selection import train_test_split\n",
    "import json\n",
    "debug = True\n",
    "\n",
    "combined_dataset = pd.read_csv(\"/kaggle/input/combined-dataset-before-smote/output-2.csv\", header=None, delimiter=',')\n",
    "print(combined_dataset)\n",
    "all_scores = {}\n",
    "batch_size = 16\n",
    "epochs = 30"
   ]
  },
  {
   "cell_type": "code",
   "execution_count": 2,
   "id": "3fcc7806",
   "metadata": {
    "execution": {
     "iopub.execute_input": "2024-10-23T05:30:58.428511Z",
     "iopub.status.busy": "2024-10-23T05:30:58.428169Z",
     "iopub.status.idle": "2024-10-23T06:16:54.211536Z",
     "shell.execute_reply": "2024-10-23T06:16:54.210506Z"
    },
    "papermill": {
     "duration": 2755.791494,
     "end_time": "2024-10-23T06:16:54.213870",
     "exception": false,
     "start_time": "2024-10-23T05:30:58.422376",
     "status": "completed"
    },
    "tags": []
   },
   "outputs": [
    {
     "name": "stdout",
     "output_type": "stream",
     "text": [
      "shape of x_train after reshaping (117690, 26, 1, 1)\n",
      "shape of x_test after reshaping (29423, 26, 1, 1)\n",
      "batch size: 16\n",
      "Train on 117690 samples\n",
      "Epoch 1/30\n",
      "117690/117690 [==============================] - 95s 811us/sample - loss: 0.6522 - acc: 0.5240\n",
      "Epoch 2/30\n",
      "117690/117690 [==============================] - 91s 776us/sample - loss: 0.5804 - acc: 0.5547\n",
      "Epoch 3/30\n",
      "117690/117690 [==============================] - 91s 776us/sample - loss: 0.5274 - acc: 0.5845\n",
      "Epoch 4/30\n",
      "117690/117690 [==============================] - 91s 776us/sample - loss: 0.4839 - acc: 0.6068\n",
      "Epoch 5/30\n",
      "117690/117690 [==============================] - 91s 777us/sample - loss: 0.4451 - acc: 0.6224\n",
      "Epoch 6/30\n",
      "117690/117690 [==============================] - 91s 776us/sample - loss: 0.4098 - acc: 0.6341\n",
      "Epoch 7/30\n",
      "117690/117690 [==============================] - 91s 775us/sample - loss: 0.3802 - acc: 0.6441\n",
      "Epoch 8/30\n",
      "117690/117690 [==============================] - 91s 775us/sample - loss: 0.3549 - acc: 0.6508\n",
      "Epoch 9/30\n",
      "117690/117690 [==============================] - 91s 776us/sample - loss: 0.3311 - acc: 0.6573\n",
      "Epoch 10/30\n",
      "117690/117690 [==============================] - 91s 776us/sample - loss: 0.3112 - acc: 0.6618\n",
      "Epoch 11/30\n",
      "117690/117690 [==============================] - 91s 776us/sample - loss: 0.2930 - acc: 0.6666\n",
      "Epoch 12/30\n",
      "117690/117690 [==============================] - 91s 777us/sample - loss: 0.2776 - acc: 0.6698\n",
      "Epoch 13/30\n",
      "117690/117690 [==============================] - 91s 777us/sample - loss: 0.2637 - acc: 0.6727\n",
      "Epoch 14/30\n",
      "117690/117690 [==============================] - 91s 776us/sample - loss: 0.2506 - acc: 0.6751\n",
      "Epoch 15/30\n",
      "117690/117690 [==============================] - 92s 777us/sample - loss: 0.2401 - acc: 0.6769\n",
      "Epoch 16/30\n",
      "117690/117690 [==============================] - 91s 777us/sample - loss: 0.2300 - acc: 0.6788\n",
      "Epoch 17/30\n",
      "117690/117690 [==============================] - 91s 776us/sample - loss: 0.2210 - acc: 0.6807\n",
      "Epoch 18/30\n",
      "117690/117690 [==============================] - 92s 779us/sample - loss: 0.2117 - acc: 0.6820\n",
      "Epoch 19/30\n",
      "117690/117690 [==============================] - 91s 777us/sample - loss: 0.2048 - acc: 0.6829\n",
      "Epoch 20/30\n",
      "117690/117690 [==============================] - 92s 782us/sample - loss: 0.1963 - acc: 0.6845\n",
      "Epoch 21/30\n",
      "117690/117690 [==============================] - 92s 785us/sample - loss: 0.1913 - acc: 0.6858\n",
      "Epoch 22/30\n",
      "117690/117690 [==============================] - 92s 778us/sample - loss: 0.1848 - acc: 0.6864\n",
      "Epoch 23/30\n",
      "117690/117690 [==============================] - 92s 778us/sample - loss: 0.1788 - acc: 0.6879\n",
      "Epoch 24/30\n",
      "117690/117690 [==============================] - 92s 778us/sample - loss: 0.1741 - acc: 0.6886\n",
      "Epoch 25/30\n",
      "117690/117690 [==============================] - 92s 778us/sample - loss: 0.1697 - acc: 0.6894\n",
      "Epoch 26/30\n",
      "117690/117690 [==============================] - 91s 777us/sample - loss: 0.1649 - acc: 0.6897\n",
      "Epoch 27/30\n",
      "117690/117690 [==============================] - 92s 778us/sample - loss: 0.1604 - acc: 0.6902\n",
      "Epoch 28/30\n",
      "117690/117690 [==============================] - 92s 778us/sample - loss: 0.1562 - acc: 0.6905\n",
      "Epoch 29/30\n",
      "117690/117690 [==============================] - 91s 777us/sample - loss: 0.1517 - acc: 0.6913\n",
      "Epoch 30/30\n",
      "117690/117690 [==============================] - 92s 779us/sample - loss: 0.1492 - acc: 0.6915\n"
     ]
    },
    {
     "name": "stderr",
     "output_type": "stream",
     "text": [
      "/opt/conda/lib/python3.10/site-packages/keras/src/engine/training_v1.py:2359: UserWarning: `Model.state_updates` will be removed in a future version. This property should not be used in TensorFlow 2.0, as `updates` are applied automatically.\n",
      "  updates=self.state_updates,\n"
     ]
    }
   ],
   "source": [
    "x_ = combined_dataset.drop(columns=[26, 27, 28, 29])\n",
    "y_ = combined_dataset.filter([26, 27, 28, 29])\n",
    "x_train, x_test, y_train, y_test = train_test_split(x_, y_, test_size=0.2, random_state=42)\n",
    "\n",
    "# Reshape input data\n",
    "x_train = x_train.values.reshape(-1, x_train.shape[1], 1, 1)\n",
    "x_test = x_test.values.reshape(-1, x_test.shape[1], 1, 1)\n",
    "\n",
    "if debug:\n",
    "    print('shape of x_train after reshaping', x_train.shape)\n",
    "    print('shape of x_test after reshaping', x_test.shape)\n",
    "\n",
    "#determine batch size\n",
    "batch_size = min(x_train.shape[0] / 10, batch_size)\n",
    "if debug:\n",
    "    print('batch size: ' + str(batch_size))\n",
    "\n",
    "# Modify input shape accordingly\n",
    "input_shape = (x_train.shape[1], 1, 1)\n",
    "# Create the input layer\n",
    "inputs = Input(shape=input_shape)\n",
    "\n",
    "# Entry Flow\n",
    "x = Conv2D(32, (3, 3), strides=(2, 2), padding='same')(inputs)\n",
    "x = BatchNormalization()(x)\n",
    "x = Activation('relu')(x)\n",
    "\n",
    "x = Conv2D(64, (3, 3), padding='same')(x)\n",
    "x = BatchNormalization()(x)\n",
    "x = Activation('relu')(x)\n",
    "\n",
    "previous_block_activation = x\n",
    "for size in [128, 256, 728]:\n",
    "    x = Activation('relu')(x)\n",
    "    x = Conv2D(size, (3, 3), padding='same')(x)\n",
    "    x = BatchNormalization()(x)\n",
    "\n",
    "    x = Activation('relu')(x)\n",
    "    x = Conv2D(size, (3, 3), padding='same')(x)\n",
    "    x = BatchNormalization()(x)\n",
    "\n",
    "    x = MaxPooling2D((3, 3), strides=(2, 2), padding='same')(x)\n",
    "    residual = Conv2D(size, (1, 1), strides=(2, 2), padding='same')(previous_block_activation)\n",
    "    x = add([x, residual])\n",
    "    previous_block_activation = x\n",
    "\n",
    "def middle_flow(x, num_blocks=8):\n",
    "    previous_block_activation = x\n",
    "\n",
    "    for _ in range(num_blocks):\n",
    "        x = Activation('relu')(x)\n",
    "        x = SeparableConv2D(728, 3, padding='same')(x)\n",
    "        x = BatchNormalization()(x)\n",
    "\n",
    "        x = Activation('relu')(x)\n",
    "        x = SeparableConv2D(728, 3, padding='same')(x)\n",
    "        x = BatchNormalization()(x)\n",
    "\n",
    "        x = add([x, previous_block_activation])  # Add back residual\n",
    "        previous_block_activation = x  # Set aside next residual\n",
    "\n",
    "    return x\n",
    "\n",
    "def exit_flow(x, num_classes):\n",
    "    previous_block_activation = x\n",
    "\n",
    "    x = Activation('relu')(x)\n",
    "    x = SeparableConv2D(728, 3, padding='same')(x)\n",
    "    x = BatchNormalization()(x)\n",
    "\n",
    "    x = Activation('relu')(x)\n",
    "    x = SeparableConv2D(1024, 3, padding='same')(x)\n",
    "    x = BatchNormalization()(x)\n",
    "\n",
    "    x = MaxPooling2D(3, strides=2, padding='same')(x)\n",
    "\n",
    "    residual = Conv2D(  # Project residual\n",
    "        1024, 1, strides=2, padding='same')(previous_block_activation)\n",
    "    x = add([x, residual])  # Add back residual\n",
    "\n",
    "    x = SeparableConv2D(1536, 3, padding='same')(x)\n",
    "    x = BatchNormalization()(x)\n",
    "    x = Activation('relu')(x)\n",
    "\n",
    "    x = SeparableConv2D(2048, 3, padding='same')(x)\n",
    "    x = BatchNormalization()(x)\n",
    "    x = Activation('relu')(x)\n",
    "\n",
    "    x = GlobalAveragePooling2D()(x)\n",
    "\n",
    "    if num_classes == 1:\n",
    "        activation = 'sigmoid'\n",
    "    else:\n",
    "        activation = 'softmax'\n",
    "\n",
    "    return Dense(num_classes, activation=activation)(x)\n",
    "\n",
    "\n",
    "\n",
    "# Define the number of classes based on your task\n",
    "num_classes = 4  # Adjust this according to your task\n",
    "\n",
    "# Final Dense Layer\n",
    "x = GlobalAveragePooling2D()(x)\n",
    "if num_classes == 1:\n",
    "    activation = 'sigmoid'\n",
    "else:\n",
    "    activation = 'softmax'\n",
    "outputs = Dense(num_classes, activation=activation)(x)\n",
    "\n",
    "# Create the model\n",
    "model = Model(inputs, outputs)\n",
    "\n",
    "# Compile the model with an appropriate optimizer, loss function, and metrics\n",
    "model.compile(optimizer='adam', loss='binary_crossentropy', metrics=['accuracy'])\n",
    "model.fit(x_train, y_train, epochs=epochs, batch_size=batch_size)\n",
    "\n",
    "y_pred = model.predict(x_test)\n",
    "y_pred = (y_pred > 0.5).astype(int)"
   ]
  },
  {
   "cell_type": "code",
   "execution_count": 3,
   "id": "6ae15b6b",
   "metadata": {
    "execution": {
     "iopub.execute_input": "2024-10-23T06:17:01.915691Z",
     "iopub.status.busy": "2024-10-23T06:17:01.915282Z",
     "iopub.status.idle": "2024-10-23T06:17:01.920788Z",
     "shell.execute_reply": "2024-10-23T06:17:01.919940Z"
    },
    "papermill": {
     "duration": 3.934353,
     "end_time": "2024-10-23T06:17:01.922679",
     "exception": false,
     "start_time": "2024-10-23T06:16:57.988326",
     "status": "completed"
    },
    "tags": []
   },
   "outputs": [],
   "source": [
    "y_test = np.array(y_test)\n",
    "y_test = y_test.flatten()\n",
    "y_pred = y_pred.flatten()"
   ]
  },
  {
   "cell_type": "code",
   "execution_count": 4,
   "id": "03ce925d",
   "metadata": {
    "execution": {
     "iopub.execute_input": "2024-10-23T06:17:09.573442Z",
     "iopub.status.busy": "2024-10-23T06:17:09.573022Z",
     "iopub.status.idle": "2024-10-23T06:17:09.873643Z",
     "shell.execute_reply": "2024-10-23T06:17:09.872759Z"
    },
    "papermill": {
     "duration": 4.185376,
     "end_time": "2024-10-23T06:17:09.875945",
     "exception": false,
     "start_time": "2024-10-23T06:17:05.690569",
     "status": "completed"
    },
    "tags": []
   },
   "outputs": [
    {
     "name": "stdout",
     "output_type": "stream",
     "text": [
      "Confusion Matrix: [[55635  4513]\n",
      " [34333 23211]]\n"
     ]
    },
    {
     "data": {
      "image/png": "[encoded data removed]",
      "text/plain": [
       "<Figure size 640x480 with 2 Axes>"
      ]
     },
     "metadata": {},
     "output_type": "display_data"
    },
    {
     "name": "stdout",
     "output_type": "stream",
     "text": [
      "FPR: 0.07503158874775553 TPR: 0.40336090643681355\n"
     ]
    }
   ],
   "source": [
    "cm = confusion_matrix(y_test, y_pred)\n",
    "print(\"Confusion Matrix:\",cm)\n",
    "cm_display = metrics.ConfusionMatrixDisplay(confusion_matrix = cm, display_labels = [True, False])\n",
    "cm_display.plot()\n",
    "plt.savefig('/kaggle/working/xception_cm_no_smote.png')\n",
    "plt.show()\n",
    "\n",
    "fpr_cm = cm[0, 1] / (cm[0, 1] + cm[0, 0])\n",
    "tpr_cm = cm[1, 1] / (cm[1, 1] + cm[1, 0])\n",
    "\n",
    "print(\"FPR:\", fpr_cm, \"TPR:\", tpr_cm)"
   ]
  },
  {
   "cell_type": "code",
   "execution_count": 5,
   "id": "38551f66",
   "metadata": {
    "execution": {
     "iopub.execute_input": "2024-10-23T06:17:17.472779Z",
     "iopub.status.busy": "2024-10-23T06:17:17.472410Z",
     "iopub.status.idle": "2024-10-23T06:17:17.793518Z",
     "shell.execute_reply": "2024-10-23T06:17:17.792560Z"
    },
    "papermill": {
     "duration": 4.150346,
     "end_time": "2024-10-23T06:17:17.795456",
     "exception": false,
     "start_time": "2024-10-23T06:17:13.645110",
     "status": "completed"
    },
    "tags": []
   },
   "outputs": [
    {
     "name": "stdout",
     "output_type": "stream",
     "text": [
      "ROC: 0.664164658844529\n"
     ]
    },
    {
     "data": {
      "image/png": "[encoded data removed]",
      "text/plain": [
       "<Figure size 800x800 with 1 Axes>"
      ]
     },
     "metadata": {},
     "output_type": "display_data"
    }
   ],
   "source": [
    "fpr, tpr, thresholds = roc_curve(y_test, y_pred)\n",
    "roc_auc = auc(fpr, tpr)\n",
    "print(\"ROC:\",roc_auc)\n",
    "\n",
    "plt.figure(figsize=(8, 8))\n",
    "plt.plot(fpr, tpr, color='navy', lw=2, label='ROC curve (area = {:.2f})'.format(roc_auc))\n",
    "plt.plot([0, 1], [0, 1], color='lightblue', lw=2, linestyle='--')\n",
    "plt.xlabel('FPR')\n",
    "plt.ylabel('TPR')\n",
    "plt.title('ROC Curve')\n",
    "plt.legend(loc='lower right')\n",
    "plt.savefig('/kaggle/working/xception_roc_no_smote.png')\n",
    "plt.show()"
   ]
  },
  {
   "cell_type": "code",
   "execution_count": 6,
   "id": "9af79f01",
   "metadata": {
    "execution": {
     "iopub.execute_input": "2024-10-23T06:17:25.448126Z",
     "iopub.status.busy": "2024-10-23T06:17:25.447265Z",
     "iopub.status.idle": "2024-10-23T06:17:25.772306Z",
     "shell.execute_reply": "2024-10-23T06:17:25.771482Z"
    },
    "papermill": {
     "duration": 4.165021,
     "end_time": "2024-10-23T06:17:25.774324",
     "exception": false,
     "start_time": "2024-10-23T06:17:21.609303",
     "status": "completed"
    },
    "tags": []
   },
   "outputs": [
    {
     "name": "stdout",
     "output_type": "stream",
     "text": [
      "PRC: 0.7661484107898799\n"
     ]
    },
    {
     "data": {
      "image/png": "[encoded data removed]",
      "text/plain": [
       "<Figure size 800x800 with 1 Axes>"
      ]
     },
     "metadata": {},
     "output_type": "display_data"
    }
   ],
   "source": [
    "precision, recall, thresholds = precision_recall_curve(y_test, y_pred)\n",
    "prc_auc = auc(recall, precision)\n",
    "print(\"PRC:\",prc_auc)\n",
    "\n",
    "plt.figure(figsize=(8, 8))\n",
    "plt.plot(recall, precision, color='purple', lw=2, label='PRC curve (area = {:.2f})'.format(prc_auc))\n",
    "plt.xlabel('Recall')\n",
    "plt.ylabel('Precision')\n",
    "plt.title('Precision-Recall Curve')\n",
    "plt.legend(loc='upper right')\n",
    "plt.savefig('/kaggle/working/xception_prc_no_smote.png')\n",
    "plt.show()"
   ]
  },
  {
   "cell_type": "code",
   "execution_count": 7,
   "id": "b813a430",
   "metadata": {
    "execution": {
     "iopub.execute_input": "2024-10-23T06:17:33.427646Z",
     "iopub.status.busy": "2024-10-23T06:17:33.427254Z",
     "iopub.status.idle": "2024-10-23T06:17:33.524714Z",
     "shell.execute_reply": "2024-10-23T06:17:33.523679Z"
    },
    "papermill": {
     "duration": 3.944136,
     "end_time": "2024-10-23T06:17:33.526753",
     "exception": false,
     "start_time": "2024-10-23T06:17:29.582617",
     "status": "completed"
    },
    "tags": []
   },
   "outputs": [
    {
     "name": "stdout",
     "output_type": "stream",
     "text": [
      "F1 score: 0.6428257111165332 recall score: 0.664164658844529\n"
     ]
    }
   ],
   "source": [
    "f1_score_value = f1_score(y_test, y_pred, average='macro')\n",
    "recall_score_value = recall_score(y_test, y_pred, average='macro')\n",
    "\n",
    "print(\"F1 score:\",f1_score_value,\"recall score:\", recall_score_value)"
   ]
  },
  {
   "cell_type": "code",
   "execution_count": 8,
   "id": "aec486cb",
   "metadata": {
    "execution": {
     "iopub.execute_input": "2024-10-23T06:17:41.142395Z",
     "iopub.status.busy": "2024-10-23T06:17:41.141997Z",
     "iopub.status.idle": "2024-10-23T06:17:41.148160Z",
     "shell.execute_reply": "2024-10-23T06:17:41.147320Z"
    },
    "papermill": {
     "duration": 3.790017,
     "end_time": "2024-10-23T06:17:41.150623",
     "exception": false,
     "start_time": "2024-10-23T06:17:37.360606",
     "status": "completed"
    },
    "tags": []
   },
   "outputs": [
    {
     "name": "stdout",
     "output_type": "stream",
     "text": [
      "F1 Score: 0.6428257111165332\n",
      "Recall: 0.664164658844529\n",
      "FPR: 0.07503158874775553\n",
      "TPR: 0.40336090643681355\n",
      "ROC AUC: 0.664164658844529\n",
      "PRC AUC: 0.7661484107898799\n",
      "All Scores: {'F1 Score': 0.6428257111165332, 'Recall': 0.664164658844529, 'FPR': 0.07503158874775553, 'TPR': 0.40336090643681355, 'ROC AUC': 0.664164658844529, 'PRC AUC': 0.7661484107898799}\n"
     ]
    }
   ],
   "source": [
    "all_scores= {\n",
    "    'F1 Score': f1_score_value,\n",
    "    'Recall': recall_score_value,\n",
    "    'FPR': fpr_cm,\n",
    "    'TPR': tpr_cm,\n",
    "    'ROC AUC': roc_auc,\n",
    "    'PRC AUC': prc_auc\n",
    "    }\n",
    "print('F1 Score:', f1_score_value)\n",
    "print('Recall:', recall_score_value)\n",
    "print('FPR:', fpr_cm)\n",
    "print('TPR:', tpr_cm)\n",
    "print('ROC AUC:', roc_auc)\n",
    "print('PRC AUC:', prc_auc)\n",
    "print('All Scores:', all_scores)"
   ]
  },
  {
   "cell_type": "code",
   "execution_count": 9,
   "id": "dd596ad8",
   "metadata": {
    "execution": {
     "iopub.execute_input": "2024-10-23T06:17:48.799816Z",
     "iopub.status.busy": "2024-10-23T06:17:48.798872Z",
     "iopub.status.idle": "2024-10-23T06:17:48.806971Z",
     "shell.execute_reply": "2024-10-23T06:17:48.806126Z"
    },
    "papermill": {
     "duration": 3.88798,
     "end_time": "2024-10-23T06:17:48.809007",
     "exception": false,
     "start_time": "2024-10-23T06:17:44.921027",
     "status": "completed"
    },
    "tags": []
   },
   "outputs": [
    {
     "name": "stdout",
     "output_type": "stream",
     "text": [
      "{'Metric': ['F1 Score', 'True Positive Rate', 'False Positive Rate'], 'Score': [0.6428257111165332, 0.40336090643681355, 0.07503158874775553]}\n"
     ]
    }
   ],
   "source": [
    "dict_string = json.dumps(all_scores)\n",
    "file_path = '/kaggle/working/output_no_smote.txt'\n",
    "\n",
    "with open(file_path, 'w') as file:\n",
    "    file.write(dict_string)\n",
    "\n",
    "scores_table =({\n",
    "    'Metric': ['F1 Score', 'True Positive Rate', 'False Positive Rate'],\n",
    "    'Score': [f1_score_value, tpr_cm, fpr_cm]\n",
    "})\n",
    "dict_string2 = json.dumps(scores_table)\n",
    "file_path2 = '/kaggle/working/scores_table_no_smote.txt'\n",
    "with open(file_path2,'w') as file:\n",
    "    file.write(dict_string2)\n",
    "\n",
    "print(scores_table)"
   ]
  },
  {
   "cell_type": "code",
   "execution_count": 10,
   "id": "d0bf119b",
   "metadata": {
    "execution": {
     "iopub.execute_input": "2024-10-23T06:17:56.339003Z",
     "iopub.status.busy": "2024-10-23T06:17:56.338645Z",
     "iopub.status.idle": "2024-10-23T06:17:56.784954Z",
     "shell.execute_reply": "2024-10-23T06:17:56.784214Z"
    },
    "papermill": {
     "duration": 4.209777,
     "end_time": "2024-10-23T06:17:56.786832",
     "exception": false,
     "start_time": "2024-10-23T06:17:52.577055",
     "status": "completed"
    },
    "tags": []
   },
   "outputs": [],
   "source": [
    "np.savetxt('/kaggle/working/y_test_no_smote.txt', y_test, fmt='%d')\n",
    "np.savetxt('/kaggle/working/y_pred_no_smote.txt', y_pred, fmt='%d')\n",
    "np.savetxt('/kaggle/working/tpr_no_smote.txt', tpr, fmt='%d')\n",
    "np.savetxt('/kaggle/working/fpr_no_smote.txt', fpr, fmt='%d')"
   ]
  },
  {
   "cell_type": "code",
   "execution_count": 11,
   "id": "5d0d7f9e",
   "metadata": {
    "execution": {
     "iopub.execute_input": "2024-10-23T06:18:04.475592Z",
     "iopub.status.busy": "2024-10-23T06:18:04.474639Z",
     "iopub.status.idle": "2024-10-23T06:18:05.084132Z",
     "shell.execute_reply": "2024-10-23T06:18:05.083074Z"
    },
    "papermill": {
     "duration": 4.43837,
     "end_time": "2024-10-23T06:18:05.086523",
     "exception": false,
     "start_time": "2024-10-23T06:18:00.648153",
     "status": "completed"
    },
    "tags": []
   },
   "outputs": [
    {
     "name": "stderr",
     "output_type": "stream",
     "text": [
      "/opt/conda/lib/python3.10/site-packages/keras/src/engine/training.py:3103: UserWarning: You are saving your model as an HDF5 file via `model.save()`. This file format is considered legacy. We recommend using instead the native Keras format, e.g. `model.save('my_model.keras')`.\n",
      "  saving_api.save_model(\n"
     ]
    }
   ],
   "source": [
    "model.save('/kaggle/working/no_smote_xception.h5')"
   ]
  },
  {
   "cell_type": "code",
   "execution_count": 12,
   "id": "1a88edcd",
   "metadata": {
    "execution": {
     "iopub.execute_input": "2024-10-23T06:18:12.701849Z",
     "iopub.status.busy": "2024-10-23T06:18:12.701508Z",
     "iopub.status.idle": "2024-10-23T06:18:12.711027Z",
     "shell.execute_reply": "2024-10-23T06:18:12.710186Z"
    },
    "papermill": {
     "duration": 3.853279,
     "end_time": "2024-10-23T06:18:12.712966",
     "exception": false,
     "start_time": "2024-10-23T06:18:08.859687",
     "status": "completed"
    },
    "tags": []
   },
   "outputs": [
    {
     "name": "stdout",
     "output_type": "stream",
     "text": [
      "Type of f1: <class 'numpy.float64'>\n",
      "Type of precision: <class 'numpy.ndarray'>\n",
      "Type of recall: <class 'numpy.ndarray'>\n",
      "Type of tpr_value: <class 'numpy.float64'>\n",
      "Type of fpr_value: <class 'numpy.float64'>\n",
      "Type of roc_auc: <class 'numpy.float64'>\n",
      "Type of prc_auc: <class 'numpy.float64'>\n",
      "Type of tpr: <class 'numpy.ndarray'>\n",
      "Type of fpr: <class 'numpy.ndarray'>\n"
     ]
    }
   ],
   "source": [
    "\n",
    "\n",
    "import json\n",
    "\n",
    "# Assuming tpr and fpr are NumPy arrays\n",
    "print(\"Type of f1:\", type(f1_score_value))\n",
    "print(\"Type of precision:\", type(precision))\n",
    "print(\"Type of recall:\", type(recall))\n",
    "print(\"Type of tpr_value:\", type(tpr_cm))\n",
    "print(\"Type of fpr_value:\", type(fpr_cm))\n",
    "print(\"Type of roc_auc:\", type(roc_auc))\n",
    "print(\"Type of prc_auc:\", type(prc_auc))\n",
    "print(\"Type of tpr:\", type(tpr))\n",
    "print(\"Type of fpr:\", type(fpr))\n",
    "\n",
    "precision_list = precision.tolist()\n",
    "recall_list = recall.tolist()\n",
    "tpr_list = tpr.tolist()\n",
    "fpr_list = fpr.tolist()\n",
    "\n",
    "#print(f1.type())\n",
    "\n",
    "data = {\n",
    "    \"Average F1 Score\": float(f1_score_value), \n",
    "    #\"Average Precision\": float(precision_score_value), \n",
    "    \"Average Recall\": float(recall_score_value), \n",
    "    \"Average True Positive Rate\": float(tpr_cm), \n",
    "    \"Average False Positive Rate\": float(fpr_cm), \n",
    "    \"Average ROC AUC\": roc_auc, \n",
    "    \"Average PRC AUC\": prc_auc,\n",
    "    \"TPR Array\" : tpr_list,\n",
    "    \"FPR Array\" : fpr_list,\n",
    "    \"Precision Array\": precision_list, \n",
    "    \"Recall Array\": recall_list\n",
    "}\n",
    "\n",
    "# Specify the file path\n",
    "file_path = \"/kaggle/working/Xception - Synthetic SMOTE - Lenny.json\"\n",
    "\n",
    "# Write the data to a JSON file\n",
    "with open(file_path, \"w\") as json_file:\n",
    "    json.dump(data, json_file)"
   ]
  }
 ],
 "metadata": {
  "kaggle": {
   "accelerator": "nvidiaTeslaT4",
   "dataSources": [
    {
     "datasetId": 4396404,
     "sourceId": 7548849,
     "sourceType": "datasetVersion"
    },
    {
     "datasetId": 4397099,
     "sourceId": 7549881,
     "sourceType": "datasetVersion"
    }
   ],
   "dockerImageVersionId": 30648,
   "isGpuEnabled": true,
   "isInternetEnabled": true,
   "language": "python",
   "sourceType": "notebook"
  },
  "kernelspec": {
   "display_name": "Python 3",
   "language": "python",
   "name": "python3"
  },
  "language_info": {
   "codemirror_mode": {
    "name": "ipython",
    "version": 3
   },
   "file_extension": ".py",
   "mimetype": "text/x-python",
   "name": "python",
   "nbconvert_exporter": "python",
   "pygments_lexer": "ipython3",
   "version": "3.10.13"
  },
  "papermill": {
   "default_parameters": {},
   "duration": 2857.943103,
   "end_time": "2024-10-23T06:18:19.160466",
   "environment_variables": {},
   "exception": null,
   "input_path": "__notebook__.ipynb",
   "output_path": "__notebook__.ipynb",
   "parameters": {},
   "start_time": "2024-10-23T05:30:41.217363",
   "version": "2.5.0"
  }
 },
 "nbformat": 4,
 "nbformat_minor": 5
}
